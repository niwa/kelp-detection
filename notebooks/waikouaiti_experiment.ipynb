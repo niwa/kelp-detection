{
 "cells": [
  {
   "cell_type": "code",
   "execution_count": 38,
   "id": "6bf697db-3cd7-4938-89a1-c2d9dd2090f1",
   "metadata": {},
   "outputs": [],
   "source": [
    "import pystac_client\n",
    "import pystac\n",
    "import odc.stac\n",
    "import rioxarray\n",
    "import pathlib\n",
    "import pandas\n",
    "import numpy\n",
    "import folium\n",
    "import branca.element, branca.colormap # Remove whitespace around small folium map"
   ]
  },
  {
   "cell_type": "code",
   "execution_count": 39,
   "id": "46667152-8219-434d-982c-c87a962c5397",
   "metadata": {},
   "outputs": [],
   "source": [
    "def geopandas_bounds_to_plot(dataframe, crs=4326):\n",
    "    \"\"\" Changing bounding box representation to leaflet notation ``(lon1, lat1, lon2, lat2) -> ((lat1, lon1), (lat2, lon2))`` \"\"\"\n",
    "    x1, y1, x2, y2 = dataframe.to_crs(crs).total_bounds\n",
    "    return ((y1, x1), (y2, x2))"
   ]
  },
  {
   "cell_type": "code",
   "execution_count": 40,
   "id": "bc80717b-7fca-41ef-897b-1eddd7715028",
   "metadata": {},
   "outputs": [],
   "source": [
    "data_path = pathlib.Path.cwd() / \"..\" / \"data\"\n",
    "(data_path / \"rasters\").mkdir(parents=True, exist_ok=True)\n",
    "crs_wsg = 4326\n",
    "crs = 2193\n",
    "name = \"waikouaiti\""
   ]
  },
  {
   "cell_type": "code",
   "execution_count": 41,
   "id": "cf41f55e-fb36-4a13-b5bc-22eadeb276fd",
   "metadata": {},
   "outputs": [],
   "source": [
    "bands = [\"red\", \"green\", \"blue\", \"nir\", \"scl\"]\n",
    "SCL_CIRRUS = 10\n",
    "SCL_CLOUD = 9\n",
    "SCL_DEFECTIVE = 1\n",
    "SCL_NO_DATA = 0\n",
    "offset = -0.1\n",
    "scale = 0.0001\n",
    "thresholds = {\"min_ndvi\": 0.01, \"max_ndvi\": 0.7, \"max_ndwi\": 0.2}"
   ]
  },
  {
   "cell_type": "code",
   "execution_count": 42,
   "id": "7f3b1cfa-87ee-40cc-afdc-4d64da970b58",
   "metadata": {},
   "outputs": [],
   "source": [
    "earth_search = {\"url\": \"https://earth-search.aws.element84.com/v1\", \"collection\": \"sentinel-2-c1-l2a\"}\n",
    "microsoft = {\"url\": \"https://planetarycomputer.microsoft.com/api/stac/v1\", \"collection\": \"sentinel-2-l2a\"}\n",
    "\n",
    "stec = earth_search"
   ]
  },
  {
   "cell_type": "code",
   "execution_count": 43,
   "id": "e27b01fc-1230-436d-8f7a-81b01efe5467",
   "metadata": {},
   "outputs": [],
   "source": [
    "# use publically available stac link such as\n",
    "odc.stac.configure_rio(cloud_defaults=True, aws={\"aws_unsigned\": True})\n",
    "client = pystac_client.Client.open(stec[\"url\"]) \n",
    "\n",
    "# ID of the collection\n",
    "collection = stec[\"collection\"]\n",
    "\n",
    "# Geometry of AOI\n",
    "import geopandas\n",
    "geometry_df = geopandas.read_file(data_path / \"vectors\" / f\"{name}.gpkg\")\n",
    "geometry = geometry_df.to_crs(crs_wsg).iloc[0].geometry\n",
    "land = geopandas.read_file(data_path / \"vectors\" / f\"main_islands.gpkg\")"
   ]
  },
  {
   "cell_type": "code",
   "execution_count": 44,
   "id": "48211750-804b-4496-bd69-82e804856fd4",
   "metadata": {},
   "outputs": [
    {
     "data": {
      "text/html": [
       "<div>\n",
       "<style scoped>\n",
       "    .dataframe tbody tr th:only-of-type {\n",
       "        vertical-align: middle;\n",
       "    }\n",
       "\n",
       "    .dataframe tbody tr th {\n",
       "        vertical-align: top;\n",
       "    }\n",
       "\n",
       "    .dataframe thead th {\n",
       "        text-align: right;\n",
       "    }\n",
       "</style>\n",
       "<table border=\"1\" class=\"dataframe\">\n",
       "  <thead>\n",
       "    <tr style=\"text-align: right;\">\n",
       "      <th></th>\n",
       "      <th>type</th>\n",
       "      <th>stac_version</th>\n",
       "      <th>id</th>\n",
       "      <th>properties</th>\n",
       "      <th>geometry</th>\n",
       "      <th>links</th>\n",
       "      <th>assets</th>\n",
       "      <th>bbox</th>\n",
       "      <th>stac_extensions</th>\n",
       "      <th>collection</th>\n",
       "    </tr>\n",
       "  </thead>\n",
       "  <tbody>\n",
       "    <tr>\n",
       "      <th>0</th>\n",
       "      <td>Feature</td>\n",
       "      <td>1.0.0</td>\n",
       "      <td>S2A_T59GMK_20200531T223733_L2A</td>\n",
       "      <td>{'created': '2024-01-22T04:29:28.342Z', 'platf...</td>\n",
       "      <td>{'type': 'Polygon', 'coordinates': [[[169.7274...</td>\n",
       "      <td>[{'rel': 'self', 'type': 'application/geo+json...</td>\n",
       "      <td>{'red': {'href': 'https://e84-earth-search-sen...</td>\n",
       "      <td>[169.704927, -46.140291, 171.115971, -45.146216]</td>\n",
       "      <td>[https://stac-extensions.github.io/eo/v1.1.0/s...</td>\n",
       "      <td>sentinel-2-c1-l2a</td>\n",
       "    </tr>\n",
       "  </tbody>\n",
       "</table>\n",
       "</div>"
      ],
      "text/plain": [
       "      type stac_version                              id  \\\n",
       "0  Feature        1.0.0  S2A_T59GMK_20200531T223733_L2A   \n",
       "\n",
       "                                          properties  \\\n",
       "0  {'created': '2024-01-22T04:29:28.342Z', 'platf...   \n",
       "\n",
       "                                            geometry  \\\n",
       "0  {'type': 'Polygon', 'coordinates': [[[169.7274...   \n",
       "\n",
       "                                               links  \\\n",
       "0  [{'rel': 'self', 'type': 'application/geo+json...   \n",
       "\n",
       "                                              assets  \\\n",
       "0  {'red': {'href': 'https://e84-earth-search-sen...   \n",
       "\n",
       "                                               bbox  \\\n",
       "0  [169.704927, -46.140291, 171.115971, -45.146216]   \n",
       "\n",
       "                                     stac_extensions         collection  \n",
       "0  [https://stac-extensions.github.io/eo/v1.1.0/s...  sentinel-2-c1-l2a  "
      ]
     },
     "execution_count": 44,
     "metadata": {},
     "output_type": "execute_result"
    }
   ],
   "source": [
    "# Complete month\n",
    "date_YYMM = \"2020-05-31\"\n",
    "filters = {\"eo:cloud_cover\":{\"lt\":10}} \n",
    "# run pystac client search to see available dataset\n",
    "search = client.search(\n",
    "    collections=[collection], intersects=geometry, datetime=date_YYMM, query=filters\n",
    ") \n",
    "\n",
    "results_dict = search.item_collection_as_dict()\n",
    "pandas.DataFrame.from_records(results_dict['features'])"
   ]
  },
  {
   "cell_type": "markdown",
   "id": "cd16f658-05df-4f6c-9144-ab7a011824a8",
   "metadata": {},
   "source": [
    "## Check expected offsets and scales\n",
    "Do this before downloading with groupby solar day"
   ]
  },
  {
   "cell_type": "code",
   "execution_count": 45,
   "id": "1f6045c4-8e70-40be-81bf-d83a413d7bea",
   "metadata": {},
   "outputs": [],
   "source": [
    "for item in search.item_collection():\n",
    "    for band in bands:\n",
    "        if band == \"scl\": \n",
    "            continue\n",
    "        if item.assets[band].extra_fields['raster:bands'][0]['offset'] != offset:\n",
    "            raise Exception(\"offset doesn't match expected\")\n",
    "        if item.assets[band].extra_fields['raster:bands'][0]['scale'] != scale:\n",
    "            raise Exception(\"scale doesn't match expected\")"
   ]
  },
  {
   "cell_type": "markdown",
   "id": "42d61869-0875-4e69-a73f-8cbdf9e1c925",
   "metadata": {},
   "source": [
    "## Download and constuct Kelp layer"
   ]
  },
  {
   "cell_type": "code",
   "execution_count": 46,
   "id": "dec4c50c-e825-48c8-8df2-989938298dfb",
   "metadata": {},
   "outputs": [],
   "source": [
    "data = odc.stac.load(search.items(), geopolygon=geometry, bands=bands,  chunks={}, groupby=\"solar_day\")"
   ]
  },
  {
   "cell_type": "markdown",
   "id": "7223a61a-e59c-422c-b2ed-476a8d985ec9",
   "metadata": {},
   "source": [
    "### Remove any dates with no valid data"
   ]
  },
  {
   "cell_type": "code",
   "execution_count": 47,
   "id": "8eb24be8-d8ab-4978-9cab-283f4e938c92",
   "metadata": {},
   "outputs": [],
   "source": [
    "data[\"scl\"].load()\n",
    "data[\"scl\"] = data[\"scl\"].rio.clip(land.to_crs(data[\"scl\"].rio.crs).geometry.values, invert=True)\n",
    "data[\"scl\"].rio.write_crs(data[\"scl\"].rio.crs, inplace=True);\n",
    "data.isel(time=(data[\"scl\"] != SCL_NO_DATA).any(dim=[\"x\", \"y\"]));"
   ]
  },
  {
   "cell_type": "markdown",
   "id": "5a009ad8-4ac8-4293-93a1-1fdfe22f8b6d",
   "metadata": {},
   "source": [
    "## Caclulate kelp for remaining dates"
   ]
  },
  {
   "cell_type": "code",
   "execution_count": 48,
   "id": "f64e42f1-e8af-4c3e-a383-d3e429f05993",
   "metadata": {},
   "outputs": [],
   "source": [
    "for band in bands: \n",
    "    if band == \"scl\": \n",
    "        continue\n",
    "    data[band].data = data[band].data * scale + offset\n",
    "    data[band].data[data[band].data <= 0] = numpy.nan\n",
    "    data[band].rio.write_nodata(numpy.nan, encoded=True, inplace=True);"
   ]
  },
  {
   "cell_type": "code",
   "execution_count": 49,
   "id": "d969a71d-93cb-4150-9c84-83730b3a6198",
   "metadata": {},
   "outputs": [],
   "source": [
    "data[\"ndvi\"] = (data.nir - data.red) / (data.nir + data.red)\n",
    "data[\"ndwi\"] = (data.green-data.nir)/(data.green+data.nir)\n",
    "data[\"ndvi\"].rio.write_crs(data[\"ndvi\"].rio.crs, inplace=True); data[\"ndvi\"].rio.write_nodata(numpy.nan, encoded=True, inplace=True);\n",
    "data[\"ndwi\"].rio.write_crs(data[\"ndvi\"].rio.crs, inplace=True); data[\"ndwi\"].rio.write_nodata(numpy.nan, encoded=True, inplace=True); "
   ]
  },
  {
   "cell_type": "code",
   "execution_count": 50,
   "id": "18e74d22-acdc-4785-b601-2bf55620ea04",
   "metadata": {},
   "outputs": [],
   "source": [
    "land = geopandas.read_file(data_path / \"vectors\" / \"main_islands.geojson\")"
   ]
  },
  {
   "cell_type": "code",
   "execution_count": 51,
   "id": "9390383a-0dfc-4da5-9d44-dbc79b8a3a7d",
   "metadata": {},
   "outputs": [],
   "source": [
    "data[\"kelp\"] = (data.nir - data.red) / (data.nir + data.red)\n",
    "data[\"kelp\"].data[(data[\"ndvi\"].data < thresholds[\"min_ndvi\"]) | (data[\"ndvi\"].data > thresholds[\"max_ndvi\"]) | (data[\"ndwi\"].data > thresholds[\"max_ndwi\"])] = numpy.nan\n",
    "data[\"kelp\"].data[(data[\"scl\"].data == SCL_CIRRUS) | (data[\"ndvi\"].data == SCL_CLOUD) | (data[\"ndwi\"].data == SCL_DEFECTIVE)] = numpy.nan\n",
    "data[\"kelp\"] = data[\"kelp\"].rio.clip(land.to_crs(data[\"kelp\"].rio.crs).geometry.values, invert=True)\n",
    "data[\"kelp\"].rio.write_crs(data[\"kelp\"].rio.crs, inplace=True); data[\"kelp\"].rio.write_nodata(numpy.nan, encoded=True, inplace=True);"
   ]
  },
  {
   "cell_type": "code",
   "execution_count": 52,
   "id": "4d34562d-8753-447c-b1d8-1eafdc76b699",
   "metadata": {},
   "outputs": [],
   "source": [
    "data[\"kelp\"].to_netcdf(data_path / \"rasters\" / f'kelp_month_{name}_1.nc', format=\"NETCDF4\", engine=\"netcdf4\")\n",
    "data.to_netcdf(data_path / \"rasters\" / f'all_month_{name}.nc', format=\"NETCDF4\", engine=\"netcdf4\")"
   ]
  },
  {
   "cell_type": "code",
   "execution_count": null,
   "id": "fa770d78-d6c3-4e7b-84bd-d4192efccba5",
   "metadata": {},
   "outputs": [],
   "source": [
    "kelp_display = data[\"kelp\"].isel(time=0)\n",
    "\n",
    "fig = branca.element.Figure(width='70%', height='50%') # Ensures no extra whitespace below\n",
    "\n",
    "m = folium.Map()\n",
    "land.explore(m=m)\n",
    "kelp_display.odc.add_to(m, opacity=0.75, cmap=\"inferno\", vmin=0, vmax=1) # viridis\n",
    "m.fit_bounds(kelp_display.odc.map_bounds())\n",
    "\n",
    "colormap = branca.colormap.linear.inferno.scale(0, 1)\n",
    "colormap.caption = 'Kelp Index'\n",
    "colormap.add_to(m)\n",
    "\n",
    "display(m)"
   ]
  },
  {
   "cell_type": "code",
   "execution_count": null,
   "id": "35734b15-4c45-4d68-9806-8a662d0b9f9a",
   "metadata": {},
   "outputs": [],
   "source": []
  }
 ],
 "metadata": {
  "kernelspec": {
   "display_name": "Satellite",
   "language": "python",
   "name": "satellite"
  },
  "language_info": {
   "codemirror_mode": {
    "name": "ipython",
    "version": 3
   },
   "file_extension": ".py",
   "mimetype": "text/x-python",
   "name": "python",
   "nbconvert_exporter": "python",
   "pygments_lexer": "ipython3",
   "version": "3.11.0"
  }
 },
 "nbformat": 4,
 "nbformat_minor": 5
}
