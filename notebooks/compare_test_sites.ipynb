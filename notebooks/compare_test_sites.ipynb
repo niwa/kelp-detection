{
 "cells": [
  {
   "cell_type": "code",
   "execution_count": null,
   "id": "6bf697db-3cd7-4938-89a1-c2d9dd2090f1",
   "metadata": {},
   "outputs": [],
   "source": [
    "import pystac_client\n",
    "import pystac\n",
    "import odc.stac\n",
    "import geopandas\n",
    "import xarray \n",
    "import rioxarray\n",
    "import planetary_computer\n",
    "import pathlib\n",
    "import pandas\n",
    "import numpy\n",
    "import folium\n",
    "import dask.distributed\n",
    "import branca.element, branca.colormap # Remove whitespace around small folium map\n",
    "\n",
    "module_path = pathlib.Path.cwd() / '..' / 'scripts'\n",
    "import sys\n",
    "if str(module_path) not in sys.path:\n",
    "    sys.path.append(str(module_path))\n",
    "import utils\n",
    "\n",
    "%load_ext autoreload\n",
    "%autoreload 2\n"
   ]
  },
  {
   "cell_type": "markdown",
   "id": "45039cbb-d82f-4a73-a0fd-e162dc65967f",
   "metadata": {},
   "source": [
    "# Ensure geometries setup"
   ]
  },
  {
   "cell_type": "code",
   "execution_count": null,
   "id": "59475460-eeb3-4f27-85cf-39934eac6a14",
   "metadata": {},
   "outputs": [],
   "source": [
    "tiles_south_island = utils.create_tiles_south_island(distance_offshore = 3_000, tile_length = 10_000)\n",
    "tiles_chatham_island = utils.create_tiles_chatham_island(distance_offshore = 3_000, tile_length = 10_000)\n",
    "tiles_north_island = utils.create_tiles_north_island(distance_offshore = 3_000, tile_length = 10_000)\n",
    "test_sites = utils.create_test_sites(distance_offshore = 3_000)\n",
    "land = geopandas.read_file(utils.DATA_PATH / \"vectors\" / f\"main_islands.gpkg\")"
   ]
  },
  {
   "cell_type": "markdown",
   "id": "98f8897c-96fd-4d53-8ed6-df20d87e9dfc",
   "metadata": {},
   "source": [
    "# Set up - call only once each session"
   ]
  },
  {
   "cell_type": "code",
   "execution_count": null,
   "id": "06a342b1-4e4c-486e-a009-310ff9cceaf7",
   "metadata": {},
   "outputs": [],
   "source": [
    "client = dask.distributed.Client()\n",
    "odc.stac.configure_rio(cloud_defaults=True, client=client)\n",
    "display(client)\n",
    "\n",
    "odc.stac.configure_rio(cloud_defaults=True, aws={\"aws_unsigned\": True})\n",
    "catalogue = {\"url\": \"https://planetarycomputer.microsoft.com/api/stac/v1\",\n",
    "             \"collections\": {\"sentinel\": \"sentinel-2-l2a\", \"dem\": \"cop-dem-glo-30\"}}\n",
    "client = pystac_client.Client.open(catalogue[\"url\"], modifier=planetary_computer.sign_inplace) "
   ]
  },
  {
   "cell_type": "markdown",
   "id": "2e6d46f6-bad3-4fff-82c7-a3d64f5985b1",
   "metadata": {},
   "source": [
    "# Site of interest - change date, site name and thresholds"
   ]
  },
  {
   "cell_type": "code",
   "execution_count": null,
   "id": "60a02723-4543-4ea2-aa51-02e4dac0bdc2",
   "metadata": {},
   "outputs": [],
   "source": [
    "date_YYMM = \"2018-12-23\" # \"2016-09-19\" \"2020-11-07 - Rakiora\" \"2024-01-10\" \"2021-05-11\" \"akaroa - 2024-05-09\" \"waikouaiti - 2018-12-23\"\n",
    "site_name = \"waikouaiti\" # 'rakiora', 'waikouaiti', 'chatham', 'akaroa', 'matau', 'wellington'\n",
    "thresholds = {\"min_ndvi\": 0.03, \"max_ndvi\": 0.7, \"max_ndwi\": 0.1, \"min_ndvri\": 0.08, \"max_ndwi2\": -0.2,}"
   ]
  },
  {
   "cell_type": "markdown",
   "id": "6c3118f8-e86f-4c40-ae56-74c7a5a61a0c",
   "metadata": {},
   "source": [
    "# Generate results"
   ]
  },
  {
   "cell_type": "code",
   "execution_count": null,
   "id": "7084241a-dd94-4b77-9f47-0119658aac1d",
   "metadata": {},
   "outputs": [],
   "source": [
    "site_index = (test_sites[\"name\"] == site_name).idxmax()\n",
    "site_bbox = test_sites.to_crs(utils.CRS_WSG).loc[site_index].geometry.bounds\n",
    "\n",
    "output_path = utils.DATA_PATH / \"rasters\" / \"test_sites\" / site_name\n",
    "output_path.mkdir(parents=True, exist_ok=True)\n",
    "\n",
    "data = utils.kelp_single_day(client, date_YYMM, roi=test_sites.loc[[site_index]], thresholds=thresholds)\n",
    "data.to_netcdf(output_path / f'{date_YYMM}.nc', format=\"NETCDF4\", engine=\"netcdf4\")"
   ]
  },
  {
   "cell_type": "markdown",
   "id": "c5f1e4b8-c43b-49aa-9ee6-fcabf6deb02e",
   "metadata": {},
   "source": [
    "Load back in to avoid memory errors and create polygons defining kelp and non kelp areas"
   ]
  },
  {
   "cell_type": "code",
   "execution_count": null,
   "id": "699459b8-789f-415c-b813-69f286b5791c",
   "metadata": {},
   "outputs": [],
   "source": [
    "data = rioxarray.rioxarray.open_rasterio(output_path / f'{date_YYMM}.nc', masked=True)#.squeeze(\"band\", drop=True)\n",
    "buffer = 3\n",
    "kelp_polygons = utils.polygon_from_raster(data[\"kelp\"])\n",
    "#kelp_polygons_buffered = kelp_polygons.buffer(-utils.RASTER_DEFAULTS[\"resolution\"] * buffer).buffer(utils.RASTER_DEFAULTS[\"resolution\"] * buffer)\n",
    "#ocean_buffered = test_sites.loc[[site_index]].to_crs(kelp_polygons.crs)\n",
    "#ocean_buffered = ocean_buffered.overlay(kelp_polygons, how=\"difference\")\n",
    "#ocean_buffered = ocean_buffered.buffer(-utils.RASTER_DEFAULTS[\"resolution\"] * buffer)"
   ]
  },
  {
   "cell_type": "markdown",
   "id": "2bdccfbe-dc59-4ae4-bc84-610eabf29242",
   "metadata": {},
   "source": [
    "# Testing Andra\n",
    "* Focus on Rakiora, Waikouaiti, Akaroa\n",
    "* 1st focus on removing erroneous cloud cover (e.g. - Rakiora 2019-11-28, 2017-06-26)\n",
    "* 2nd focus on eliminating erroneous glint and wave detections (e.g. - Waikouwaiti 2018-12-23)\n",
    "* Sites and dates to check for continued kelp detaction\n",
    "  * Rakiora:\n",
    "  * Waikouaiti: 2018-06-01\n",
    "* Note for later - Waikouaiti 2016-07-21 has SCL cloud shadow over some key beds\n"
   ]
  },
  {
   "cell_type": "code",
   "execution_count": null,
   "id": "2c701889-85de-437a-89e6-b180edd1d0d3",
   "metadata": {},
   "outputs": [],
   "source": [
    "#old_thresholds = {\"min_ndvi\": 0.03, \"max_ndvi\": 0.7, \"max_ndwi\": 0.1, \"min_ndvri\": 0.03, \"max_ndwi2\": -0.2,}\n",
    "thresholds = {\"min_ndvi\": 0.03, \"max_ndvi\": 0.7, \"max_ndwi\": 0.1, \"min_ndvri\": 0.08, \"max_ndwi2\": -0.2,}\n",
    "\n",
    "thresholds[\"max_ndwi3\"] = 1; thresholds[\"min_ndwi3\"] = 0\n",
    "thresholds[\"max_ndwi4\"] = 0; thresholds[\"min_ndwi4\"] = -1\n",
    "\n",
    "data[\"kelp\"] = data[\"kelp\"].where(data[\"ndwi3\"].data < thresholds[\"max_ndwi3\"], numpy.nan)\n",
    "'''data[\"kelp\"] = data[\"kelp\"].where(data[\"ndwi3\"].data < thresholds[\"min_ndwi3\"], numpy.nan)'''\n",
    "data[\"kelp\"] = data[\"kelp\"].where(data[\"ndwi4\"].data < thresholds[\"max_ndwi4\"], numpy.nan)\n",
    "'''data[\"kelp\"] = data[\"kelp\"].where(data[\"ndwi4\"].data > thresholds[\"max_ndwi4\"], numpy.nan)'''\n",
    "update_raster_defaults(data)"
   ]
  },
  {
   "cell_type": "markdown",
   "id": "3dc9c806-d90d-42c8-af25-07c47704b81a",
   "metadata": {},
   "source": [
    "# TESTING LT\n",
    "Cell turned into raw - not code"
   ]
  },
  {
   "cell_type": "raw",
   "id": "4ea317e1-7ed5-4e22-a662-07333b097e02",
   "metadata": {},
   "source": [
    "thresholds = {\"min_ndvi\": 0.03, \"max_ndvi\": 0.7, \"max_ndwi\": 0.1, \"min_ndvri\": 0.08, \"max_ndwi2\": -0.2,}\n",
    "old_thresh_values = {\"min_ndvi\": 0.03, \"max_ndvi\": 0.7, \"max_ndwi\": 0.1, \"min_ndvri\": 0.03, \"max_ndwi2\": -0.2,}\n",
    "data[\"ndwi3\"] = (data[\"B02\"] + data[\"B01\"]) / (data[\"B02\"] - data[\"B01\"])\n",
    "data[\"ndwi4\"] = (data[\"B09\"] - data[\"B08\"]) / (data[\"B09\"] + data[\"B08\"])\n",
    "'''data[\"rededge\"] = (data[\"B05\"] - data[\"B04\"]) / (data[\"B05\"] + data[\"B04\"])'''\n",
    "'''data[\"ndwi4\"] = (data[\"B11\"] + data[\"B10\"]) / (data[\"B11\"] - data[\"B10\"])'''\n",
    "'''data[\"ndwi3\"] = (data[utils.get_band_name_from_common(\"swir16\")] + data[\"B05\"]) / (data[utils.get_band_name_from_common(\"swir16\")] - data[\"B05\"])'''\n",
    "'''data[\"ndwi3\"] = (data[\"B02\"])'''\n",
    "utils.update_raster_defaults(data)\n",
    "\n",
    "# Calculate Kelp\n",
    "thresholds[\"max_ndwi3\"] = 1; thresholds[\"min_ndwi3\"] = 0\n",
    "thresholds[\"max_ndwi4\"] = 0; thresholds[\"min_ndwi4\"] = -1\n",
    "'''thresholds[\"max_rededge\"] = 1; thresholds[\"min_rededge\"] = 0.1'''\n",
    "'''thresholds[\"max_ndwi4\"] = 1; thresholds[\"min_ndwi4\"] = 0'''\n",
    "\n",
    "data[\"kelp\"] = data[\"kelp\"].where(data[\"ndwi3\"].data < thresholds[\"max_ndwi3\"], numpy.nan)\n",
    "'''data[\"kelp\"] = data[\"kelp\"].where(data[\"ndwi3\"].data < thresholds[\"min_ndwi3\"], numpy.nan)'''\n",
    "data[\"kelp\"] = data[\"kelp\"].where(data[\"ndwi4\"].data < thresholds[\"max_ndwi4\"], numpy.nan)\n",
    "'''data[\"kelp\"] = data[\"kelp\"].where(data[\"ndwi4\"].data > thresholds[\"max_ndwi4\"], numpy.nan)'''\n",
    "'''data[\"kelp\"] = data[\"kelp\"].where(data[\"rededge\"].data > thresholds[\"min_rededge\"], numpy.nan)'''\n",
    "\n",
    "utils.update_raster_defaults(data)"
   ]
  },
  {
   "cell_type": "markdown",
   "id": "960902fa-4e00-4410-b8e5-12b3a97bf2b0",
   "metadata": {},
   "source": [
    "Saves out histograms in the same folder as the data of the ocean and kelp regions, and update the plots"
   ]
  },
  {
   "cell_type": "code",
   "execution_count": null,
   "id": "976aef84-4e46-4e3e-ac8e-0b6020e64df9",
   "metadata": {},
   "outputs": [],
   "source": [
    "utils.plot_hists_single_day(data, date_YYMM, ocean_buffered, output_path)"
   ]
  },
  {
   "cell_type": "code",
   "execution_count": null,
   "id": "db160ade-f06f-46fa-804d-bf1f09fa95f9",
   "metadata": {},
   "outputs": [],
   "source": [
    "data.data_vars"
   ]
  },
  {
   "cell_type": "code",
   "execution_count": null,
   "id": "ba5f9a4b-bf35-4849-8531-eb9858608343",
   "metadata": {},
   "outputs": [],
   "source": [
    "# Put it all on a single interactive map\n",
    "center = [(site_bbox[1] + site_bbox[3]) / 2, (site_bbox[0] + site_bbox[2]) / 2]  # Assuming min_lon and max_lon are defined\n",
    "m = folium.Map(location=center, zoom_start=13)\n",
    "\n",
    "# RGB\n",
    "'''rgb_dict = { \"Satellite RBG\": [\"red\", \"green\", \"blue\"], \"False NIR color\": [\"nir\", \"green\", \"blue\"],\n",
    "            \"False rededge-2 colour\": [\"rededge - Band 6 - Vegetation red edge 2\", \"green\", \"blue\"], \"False rededge-3 colour\": [\"rededge - Band 7 - Vegetation red edge 3\", \"green\", \"blue\"] }'''\n",
    "rgb_dict = { \"Satellite RBG\": [\"red\", \"green\", \"blue\"]}\n",
    "\n",
    "for title, names in rgb_dict.items():\n",
    "    bands = utils.get_band_names_from_common(names)\n",
    "    rgb = utils.normalise_rgb(data, bands)\n",
    "    rgb.odc.to_rgba(bands=bands, vmin=0, vmax=1).odc.add_to(map=m, name=title)\n",
    "\n",
    "# Categorical for the predicted classes and for the training data\n",
    "data[\"kelp\"].odc.add_to(m, name=\"Kelp\", opacity=1, cmap=\"inferno\", vmin=0, vmax=1)\n",
    "data[\"ndvi\"].odc.add_to(m, name=\"ndvi\", opacity=1, cmap=\"inferno\", vmin=0, vmax=1)\n",
    "data[\"ndvri\"].odc.add_to(map=m, name=\"ndvri\", opacity=1, cmap=\"inferno\", vmin=0, vmax=1)\n",
    "data[\"ndwi\"].odc.add_to(map=m, name=\"ndwi\", opacity=1, cmap=\"inferno\", vmin=0, vmax=1)\n",
    "data[\"ndwi2\"].odc.add_to(map=m, name=\"ndwi2\")\n",
    "data[\"ndwi3\"].odc.add_to(map=m, name=\"ndwi3\")\n",
    "data[\"ndwi4\"].odc.add_to(map=m, name=\"ndwi4\")\n",
    "data[\"kelp\"].odc.add_to(m, name=\"Kelp\", opacity=1, cmap=\"inferno\", vmin=0, vmax=1)\n",
    "\n",
    "colormap = branca.colormap.linear.inferno.scale(0, 1)\n",
    "colormap.caption = 'Kelp Index'\n",
    "colormap.add_to(m)\n",
    "\n",
    "kelp_polygons.explore(m=m, color=\"magenta\", style_kwds={\"fillOpacity\": 0}, name=\"kelp polygon\")\n",
    "#kelp_polygons_buffered.explore(m=m, color=\"red\", style_kwds={\"fillOpacity\": 0}, name=\"kelp buffered dialated polygon\")\n",
    "#ocean_buffered.explore(m=m, color=\"blue\", style_kwds={\"fillOpacity\": 0}, name=\"ocean dialated polygon\")\n",
    "\n",
    "# Layer control\n",
    "folium.LayerControl().add_to(m)\n",
    "import folium.plugins\n",
    "folium.plugins.MousePosition(position=\"topright\",).add_to(m)\n",
    "\n",
    "m"
   ]
  },
  {
   "cell_type": "code",
   "execution_count": null,
   "id": "c5315eda-3e6d-49e7-bfc9-dc4bba8bd491",
   "metadata": {},
   "outputs": [],
   "source": [
    "utils.SENTINEL_2B_BAND_INFO"
   ]
  },
  {
   "cell_type": "code",
   "execution_count": null,
   "id": "f3ba2ef2-88ff-463b-916c-6a7fa043b659",
   "metadata": {},
   "outputs": [],
   "source": []
  }
 ],
 "metadata": {
  "kernelspec": {
   "display_name": "Kelp",
   "language": "python",
   "name": "kelp"
  },
  "language_info": {
   "codemirror_mode": {
    "name": "ipython",
    "version": 3
   },
   "file_extension": ".py",
   "mimetype": "text/x-python",
   "name": "python",
   "nbconvert_exporter": "python",
   "pygments_lexer": "ipython3",
   "version": "3.11.0"
  }
 },
 "nbformat": 4,
 "nbformat_minor": 5
}
