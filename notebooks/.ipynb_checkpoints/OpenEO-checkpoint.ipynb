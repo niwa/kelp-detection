{
 "cells": [
  {
   "cell_type": "code",
   "execution_count": null,
   "id": "9938c7f3-e600-4a8f-b4f3-29450385b23a",
   "metadata": {},
   "outputs": [],
   "source": []
  },
  {
   "cell_type": "code",
   "execution_count": null,
   "id": "7a586ea5-1362-49ec-8ba8-badcaacd07a3",
   "metadata": {},
   "outputs": [],
   "source": []
  }
 ],
 "metadata": {
  "kernelspec": {
   "display_name": "Satellite Processing",
   "language": "python",
   "name": "satellite"
  },
  "language_info": {
   "name": ""
  }
 },
 "nbformat": 4,
 "nbformat_minor": 5
}
