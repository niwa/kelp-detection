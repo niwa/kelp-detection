{
 "cells": [
  {
   "cell_type": "markdown",
   "id": "fe39e1ab-65a9-4c67-8a9d-0bc8767ca4ec",
   "metadata": {},
   "source": [
    "# Pystac-client Python Library\n",
    "* [Medium post](https://medium.com/rotten-grapes/download-sentinel-data-within-seconds-in-python-8cc9a8c3e23c) - pystac-client & odc-stac\n",
    "* [Pystac-client documentation](https://pystac-client.readthedocs.io/en/latest/)"
   ]
  },
  {
   "cell_type": "code",
   "execution_count": 96,
   "id": "738bda11-c514-42c7-a819-89e33c00afd3",
   "metadata": {},
   "outputs": [],
   "source": [
    "import pystac_client\n",
    "import pystac\n",
    "import odc.stac\n",
    "import rioxarray\n",
    "import pathlib\n",
    "import pandas\n",
    "import numpy"
   ]
  },
  {
   "cell_type": "code",
   "execution_count": 2,
   "id": "cdab7a5d-3291-4ff1-bbaf-5d560db6cc13",
   "metadata": {},
   "outputs": [
    {
     "ename": "NameError",
     "evalue": "name 'xarray' is not defined",
     "output_type": "error",
     "traceback": [
      "\u001b[1;31m---------------------------------------------------------------------------\u001b[0m",
      "\u001b[1;31mNameError\u001b[0m                                 Traceback (most recent call last)",
      "Cell \u001b[1;32mIn[2], line 2\u001b[0m\n\u001b[0;32m      1\u001b[0m \u001b[38;5;28;01mdef\u001b[39;00m \u001b[38;5;21mwrite_netcdf_conventions_in_place\u001b[39m(\n\u001b[1;32m----> 2\u001b[0m         data: \u001b[43mxarray\u001b[49m\u001b[38;5;241m.\u001b[39mcore\u001b[38;5;241m.\u001b[39mdataarray\u001b[38;5;241m.\u001b[39mDataArray\n\u001b[0;32m      3\u001b[0m     ):\n\u001b[0;32m      4\u001b[0m \u001b[38;5;250m        \u001b[39m\u001b[38;5;124;03m\"\"\"Write the CRS and transform associated with a netCDF file such that it is CF\u001b[39;00m\n\u001b[0;32m      5\u001b[0m \u001b[38;5;124;03m        complient and meets the GDAL\u001b[39;00m\n\u001b[0;32m      6\u001b[0m \u001b[38;5;124;03m        expectations for transform information.\u001b[39;00m\n\u001b[1;32m   (...)\u001b[0m\n\u001b[0;32m     14\u001b[0m \u001b[38;5;124;03m            A dict with horizontal and vertical CRS information.\u001b[39;00m\n\u001b[0;32m     15\u001b[0m \u001b[38;5;124;03m        \"\"\"\u001b[39;00m\n\u001b[0;32m     17\u001b[0m         data\u001b[38;5;241m.\u001b[39mrio\u001b[38;5;241m.\u001b[39mwrite_crs(data\u001b[38;5;241m.\u001b[39mrio\u001b[38;5;241m.\u001b[39mcrs, inplace\u001b[38;5;241m=\u001b[39m\u001b[38;5;28;01mTrue\u001b[39;00m)\n",
      "\u001b[1;31mNameError\u001b[0m: name 'xarray' is not defined"
     ]
    }
   ],
   "source": [
    "def write_netcdf_conventions_in_place(\n",
    "        data: xarray.core.dataarray.DataArray\n",
    "    ):\n",
    "        \"\"\"Write the CRS and transform associated with a netCDF file such that it is CF\n",
    "        complient and meets the GDAL\n",
    "        expectations for transform information.\n",
    "\n",
    "        Parameters\n",
    "        ----------\n",
    "\n",
    "        dem\n",
    "            The dataset to have its spatial data written in place.\n",
    "        crs_dict\n",
    "            A dict with horizontal and vertical CRS information.\n",
    "        \"\"\"\n",
    "\n",
    "        data.rio.write_crs(data.rio.crs, inplace=True)\n",
    "        data.rio.write_transform(inplace=True)\n",
    "        for key in data.data_vars:\n",
    "            data[key].rio.write_crs(data[key].rio.crs, inplace=True)\n",
    "            #data[key].rio.write_nodata(numpy.nan, encoded=True, inplace=True)\n",
    "            compression[\"dtype\"] = data[key].dtype\n",
    "            encoding[key] = compression\n",
    "        if \"z\" in dem:\n",
    "            dem.z.rio.write_crs(crs_dict[\"horizontal\"], inplace=True)\n",
    "            dem.z.rio.write_nodata(numpy.nan, encoded=True, inplace=True)\n",
    "        if \"data_source\" in dem:\n",
    "            dem.data_source.rio.write_crs(crs_dict[\"horizontal\"], inplace=True)\n",
    "            dem.data_source.rio.write_nodata(numpy.nan, encoded=True, inplace=True)\n",
    "        if \"lidar_source\" in dem:\n",
    "            dem.lidar_source.rio.write_crs(crs_dict[\"horizontal\"], inplace=True)\n",
    "            dem.lidar_source.rio.write_nodata(numpy.nan, encoded=True, inplace=True)\n",
    "        if \"zo\" in dem:\n",
    "            dem.zo.rio.write_crs(crs_dict[\"horizontal\"], inplace=True)\n",
    "            dem.zo.rio.write_nodata(numpy.nan, encoded=True, inplace=True)"
   ]
  },
  {
   "cell_type": "code",
   "execution_count": 4,
   "id": "7f7de521-42a0-488b-968e-a71783139f4e",
   "metadata": {},
   "outputs": [],
   "source": [
    "data_path = pathlib.Path.cwd() / \"..\" / \"data\"\n",
    "(data_path / \"rasters\").mkdir(parents=True, exist_ok=True)\n",
    "crs_wsg = 4326\n",
    "crs = 2193\n",
    "name = \"waikouaiti\""
   ]
  },
  {
   "cell_type": "markdown",
   "id": "44da57ef-79db-4932-bb92-cc2c25d7c64b",
   "metadata": {},
   "source": [
    "Link to available STAC catalogues: [https://stacindex.org/catalogs#/](https://stacindex.org/catalogs#/)\n",
    "* Copernicus - \"https://catalogue.dataspace.copernicus.eu/stac\"\n",
    "* Earth Search - \"https://earth-search.aws.element84.com/v1\""
   ]
  },
  {
   "cell_type": "code",
   "execution_count": 5,
   "id": "f1446016-b95c-4c5b-9423-763e3c30c364",
   "metadata": {},
   "outputs": [],
   "source": [
    "# use publically available stac link such as\n",
    "odc.stac.configure_rio(cloud_defaults=True, aws={\"aws_unsigned\": True})\n",
    "client = pystac_client.Client.open(\"https://earth-search.aws.element84.com/v1\") \n",
    "\n",
    "# ID of the collection\n",
    "collection = \"sentinel-2-c1-l2a\"\n",
    "\n",
    "# Geometry of AOI\n",
    "import geopandas\n",
    "geometry_df = geopandas.read_file(data_path / \"vectors\" / f\"{name}.gpkg\")\n",
    "geometry = geometry_df.to_crs(crs_wsg).iloc[0].geometry"
   ]
  },
  {
   "cell_type": "code",
   "execution_count": 27,
   "id": "ca8b62f8-b49e-43ef-9a0f-240ac90a19d2",
   "metadata": {
    "scrolled": true
   },
   "outputs": [
    {
     "data": {
      "text/html": [
       "<div>\n",
       "<style scoped>\n",
       "    .dataframe tbody tr th:only-of-type {\n",
       "        vertical-align: middle;\n",
       "    }\n",
       "\n",
       "    .dataframe tbody tr th {\n",
       "        vertical-align: top;\n",
       "    }\n",
       "\n",
       "    .dataframe thead th {\n",
       "        text-align: right;\n",
       "    }\n",
       "</style>\n",
       "<table border=\"1\" class=\"dataframe\">\n",
       "  <thead>\n",
       "    <tr style=\"text-align: right;\">\n",
       "      <th></th>\n",
       "      <th>type</th>\n",
       "      <th>stac_version</th>\n",
       "      <th>id</th>\n",
       "      <th>properties</th>\n",
       "      <th>geometry</th>\n",
       "      <th>links</th>\n",
       "      <th>assets</th>\n",
       "      <th>bbox</th>\n",
       "      <th>stac_extensions</th>\n",
       "      <th>collection</th>\n",
       "    </tr>\n",
       "  </thead>\n",
       "  <tbody>\n",
       "    <tr>\n",
       "      <th>0</th>\n",
       "      <td>Feature</td>\n",
       "      <td>1.0.0</td>\n",
       "      <td>S2A_T59GMK_20200531T223733_L2A</td>\n",
       "      <td>{'created': '2024-01-22T04:29:28.342Z', 'platf...</td>\n",
       "      <td>{'type': 'Polygon', 'coordinates': [[[169.7274...</td>\n",
       "      <td>[{'rel': 'self', 'type': 'application/geo+json...</td>\n",
       "      <td>{'red': {'href': 'https://e84-earth-search-sen...</td>\n",
       "      <td>[169.704927, -46.140291, 171.115971, -45.146216]</td>\n",
       "      <td>[https://stac-extensions.github.io/eo/v1.1.0/s...</td>\n",
       "      <td>sentinel-2-c1-l2a</td>\n",
       "    </tr>\n",
       "  </tbody>\n",
       "</table>\n",
       "</div>"
      ],
      "text/plain": [
       "      type stac_version                              id  \\\n",
       "0  Feature        1.0.0  S2A_T59GMK_20200531T223733_L2A   \n",
       "\n",
       "                                          properties  \\\n",
       "0  {'created': '2024-01-22T04:29:28.342Z', 'platf...   \n",
       "\n",
       "                                            geometry  \\\n",
       "0  {'type': 'Polygon', 'coordinates': [[[169.7274...   \n",
       "\n",
       "                                               links  \\\n",
       "0  [{'rel': 'self', 'type': 'application/geo+json...   \n",
       "\n",
       "                                              assets  \\\n",
       "0  {'red': {'href': 'https://e84-earth-search-sen...   \n",
       "\n",
       "                                               bbox  \\\n",
       "0  [169.704927, -46.140291, 171.115971, -45.146216]   \n",
       "\n",
       "                                     stac_extensions         collection  \n",
       "0  [https://stac-extensions.github.io/eo/v1.1.0/s...  sentinel-2-c1-l2a  "
      ]
     },
     "execution_count": 27,
     "metadata": {},
     "output_type": "execute_result"
    }
   ],
   "source": [
    "# Complete month\n",
    "date_YYMM = \"2020-05-31\"\n",
    "filters = {\"eo:cloud_cover\":{\"lt\":10}} \n",
    "# run pystac client search to see available dataset\n",
    "search = client.search(\n",
    "    collections=[collection], intersects=geometry, datetime=date_YYMM, query=filters\n",
    ") \n",
    "\n",
    "results_dict = search.item_collection_as_dict()\n",
    "pandas.DataFrame.from_records(results_dict['features'])"
   ]
  },
  {
   "cell_type": "markdown",
   "id": "a581fc9c-fdcd-4f9d-b610-c8f7a6093754",
   "metadata": {},
   "source": [
    "Avaliable bands: ['aot', 'blue', 'coastal', 'green', 'nir', 'nir08', 'nir09', 'red', 'rededge1', 'rededge2', 'rededge3', 'scl', 'swir16', 'swir22', 'visual', 'wvp', 'aot-jp2', 'blue-jp2', 'coastal-jp2', 'green-jp2', 'nir-jp2', 'nir08-jp2', 'nir09-jp2',\n",
    " 'red-jp2',\n",
    " 'rededge1-jp2',\n",
    " 'rededge2-jp2',\n",
    " 'rededge3-jp2',\n",
    " 'scl-jp2',\n",
    " 'swir16-jp2',\n",
    " 'swir22-jp2',\n",
    " 'visual-jp2',\n",
    " 'wvp-jp2']"
   ]
  },
  {
   "cell_type": "code",
   "execution_count": 127,
   "id": "d584b8c2-078c-4ddf-90a2-a4917287213d",
   "metadata": {},
   "outputs": [],
   "source": [
    "bands = [\"red\", \"green\", \"blue\", \"nir\"]\n",
    "#load the data in xarray format\n",
    "data = odc.stac.load(search.items(), geopolygon=geometry, bands=bands,  chunks={}, ) # , groupby=\"solar_day\" - as offsets and scale\n",
    "#data"
   ]
  },
  {
   "cell_type": "markdown",
   "id": "1a05309c-3429-448b-8821-2dfb8025b459",
   "metadata": {},
   "source": [
    "# Scale, offset, calculate NDVI, NDWI, kelp and save"
   ]
  },
  {
   "cell_type": "code",
   "execution_count": 128,
   "id": "7aa8908e-397e-4883-a90a-dbd91060dfc2",
   "metadata": {},
   "outputs": [],
   "source": [
    "band = 'green'\n",
    "offsets = [item.assets[band].extra_fields['raster:bands'][0]['offset'] for item in search.item_collection()]\n",
    "scales = [item.assets[band].extra_fields['raster:bands'][0]['scale'] for item in search.item_collection()]"
   ]
  },
  {
   "cell_type": "code",
   "execution_count": 129,
   "id": "ade651b0-52b8-40c7-aa8e-fd93ec622b09",
   "metadata": {},
   "outputs": [],
   "source": [
    "for band in bands: \n",
    "    data[band].data = data[band].data * scales + offsets\n",
    "    data[band].data[data[band].data <= 0] = numpy.nan\n",
    "    data[band].rio.write_nodata(numpy.nan, encoded=True, inplace=True);"
   ]
  },
  {
   "cell_type": "code",
   "execution_count": 131,
   "id": "db23a361-993a-4f6d-846f-1548046a61a9",
   "metadata": {},
   "outputs": [],
   "source": [
    "data[\"ndvi\"] = (data.nir - data.red) / (data.nir + data.red)\n",
    "data[\"ndwi\"] = (data.green-data.nir)/(data.green+data.nir)\n",
    "data[\"ndvi\"].rio.write_crs(data[\"ndvi\"].rio.crs, inplace=True)\n",
    "data[\"ndwi\"].rio.write_crs(data[\"ndvi\"].rio.crs, inplace=True)\n",
    "data[\"ndvi\"].rio.write_nodata(numpy.nan, encoded=True, inplace=True);\n",
    "data[\"ndwi\"].rio.write_nodata(numpy.nan, encoded=True, inplace=True);"
   ]
  },
  {
   "cell_type": "code",
   "execution_count": 132,
   "id": "1a736a71-a695-4d37-ba33-c82a73a75a0e",
   "metadata": {},
   "outputs": [],
   "source": [
    "land = geopandas.read_file(data_path / \"vectors\" / \"main_islands.geojson\")\n",
    "thresholds = {\"min_ndvi\": 0.01, \"max_ndvi\": 0.7, \"max_ndwi\": 0.2}"
   ]
  },
  {
   "cell_type": "code",
   "execution_count": 137,
   "id": "7613aaad-6350-4712-b5af-17ed5dc85482",
   "metadata": {},
   "outputs": [],
   "source": [
    "data[\"kelp\"] = (data.nir - data.red) / (data.nir + data.red)\n",
    "data[\"kelp\"].data[(data[\"ndvi\"].data < thresholds[\"min_ndvi\"]) | (data[\"ndvi\"].data > thresholds[\"max_ndvi\"]) | (data[\"ndwi\"].data > thresholds[\"max_ndwi\"])] = numpy.nan\n",
    "data[\"kelp\"] = data[\"kelp\"].rio.clip(land.to_crs(data[\"kelp\"].rio.crs).geometry.values, invert=True)\n",
    "data[\"kelp\"].rio.write_crs(data[\"kelp\"].rio.crs, inplace=True)\n",
    "data[\"kelp\"].rio.write_nodata(numpy.nan, encoded=True, inplace=True);"
   ]
  },
  {
   "cell_type": "code",
   "execution_count": 138,
   "id": "584d259a-0c06-4390-a002-1f6c04cafc8a",
   "metadata": {},
   "outputs": [],
   "source": [
    "data.to_netcdf(data_path / \"rasters\" / f'data_with_kelp_{name}.nc', format=\"NETCDF4\", engine=\"netcdf4\")"
   ]
  }
 ],
 "metadata": {
  "kernelspec": {
   "display_name": "Satellite",
   "language": "python",
   "name": "satellite"
  },
  "language_info": {
   "codemirror_mode": {
    "name": "ipython",
    "version": 3
   },
   "file_extension": ".py",
   "mimetype": "text/x-python",
   "name": "python",
   "nbconvert_exporter": "python",
   "pygments_lexer": "ipython3",
   "version": "3.11.0"
  }
 },
 "nbformat": 4,
 "nbformat_minor": 5
}
