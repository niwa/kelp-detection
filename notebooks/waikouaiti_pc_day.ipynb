{
 "cells": [
  {
   "cell_type": "code",
   "execution_count": null,
   "id": "6bf697db-3cd7-4938-89a1-c2d9dd2090f1",
   "metadata": {},
   "outputs": [],
   "source": [
    "import pystac_client\n",
    "import pystac\n",
    "import odc.stac\n",
    "import xarray \n",
    "import rioxarray\n",
    "import planetary_computer\n",
    "import pathlib\n",
    "import pandas\n",
    "import numpy\n",
    "import folium\n",
    "import plotly.express\n",
    "import geoviews\n",
    "import geoviews.feature\n",
    "import cartopy \n",
    "import dask.distributed\n",
    "import branca.element, branca.colormap # Remove whitespace around small folium map\n",
    "import bokeh\n",
    "\n",
    "geoviews.extension('bokeh', 'matplotlib')"
   ]
  },
  {
   "cell_type": "code",
   "execution_count": null,
   "id": "46667152-8219-434d-982c-c87a962c5397",
   "metadata": {},
   "outputs": [],
   "source": [
    "def geopandas_bounds_to_plot(dataframe, crs=4326):\n",
    "    \"\"\" Changing bounding box representation to leaflet notation ``(lon1, lat1, lon2, lat2) -> ((lat1, lon1), (lat2, lon2))`` \"\"\"\n",
    "    x1, y1, x2, y2 = dataframe.to_crs(crs).total_bounds\n",
    "    return ((y1, x1), (y2, x2))"
   ]
  },
  {
   "cell_type": "code",
   "execution_count": null,
   "id": "f2c99e47-3649-4217-8bf9-60dca97b5983",
   "metadata": {},
   "outputs": [],
   "source": [
    "def update_raster_defaults(raster):\n",
    "    for key in raster.data_vars:\n",
    "        if key == \"SCL\":\n",
    "            continue\n",
    "        raster[key].rio.write_crs(raster[key].rio.crs, inplace=True)\n",
    "        raster[key].rio.write_nodata(numpy.nan, encoded=True, inplace=True);"
   ]
  },
  {
   "cell_type": "code",
   "execution_count": null,
   "id": "a806fe02-a64c-420b-a9f1-3ce0618c7f1c",
   "metadata": {},
   "outputs": [],
   "source": [
    "def plot_folium(data, colour_range, name, land = None):\n",
    "    \n",
    "    fig = branca.element.Figure(width='70%', height='50%') # Ensures no extra whitespace below\n",
    "    \n",
    "    m = folium.Map()\n",
    "    if land is not None:\n",
    "        land.explore(m=m, style_kwds=dict(color=\"black\"),  marker_kwds=dict(fill=True))\n",
    "    data.odc.add_to(m, opacity=0.75, cmap=\"inferno\", vmin=colour_range[0], vmax=colour_range[1]) # viridis\n",
    "    m.fit_bounds(data.odc.map_bounds())\n",
    "    \n",
    "    colormap = branca.colormap.linear.inferno.scale(colour_range[0], colour_range[1])\n",
    "    colormap.caption = name\n",
    "    colormap.add_to(m)\n",
    "    \n",
    "    display(m)"
   ]
  },
  {
   "cell_type": "markdown",
   "id": "98f8897c-96fd-4d53-8ed6-df20d87e9dfc",
   "metadata": {},
   "source": [
    "# Dask for performance"
   ]
  },
  {
   "cell_type": "code",
   "execution_count": null,
   "id": "06a342b1-4e4c-486e-a009-310ff9cceaf7",
   "metadata": {},
   "outputs": [],
   "source": [
    "client = dask.distributed.Client()\n",
    "odc.stac.configure_rio(cloud_defaults=True, client=client)\n",
    "display(client)"
   ]
  },
  {
   "cell_type": "markdown",
   "id": "2e6d46f6-bad3-4fff-82c7-a3d64f5985b1",
   "metadata": {},
   "source": [
    "# Path setup for data within the repository"
   ]
  },
  {
   "cell_type": "code",
   "execution_count": null,
   "id": "60a02723-4543-4ea2-aa51-02e4dac0bdc2",
   "metadata": {},
   "outputs": [],
   "source": [
    "data_path = pathlib.Path.cwd() / \"..\" / \"data\"\n",
    "crs_wsg = 4326\n",
    "crs = 2193\n",
    "filter_cloud_percentage = 30\n",
    "ocean_cloud_threshold = 10\n",
    "name = \"waikouaiti\"\n",
    "date_format = \"%Y-%m-%d\"\n",
    "(data_path / \"rasters\" / name).mkdir(parents=True, exist_ok=True)"
   ]
  },
  {
   "cell_type": "markdown",
   "id": "6c3118f8-e86f-4c40-ae56-74c7a5a61a0c",
   "metadata": {},
   "source": [
    "# STAC band names\n",
    "* information on Planetary Computer Catalogue - https://stacindex.org/catalogs/microsoft-pc#/\n",
    "* Information on the Copernicus DEM's - https://object.cloud.sdsc.edu/v1/AUTH_opentopography/www/metadata/Copernicus_metadata.pdf\n",
    "* Good example notebook working with Copernicus Planteary Computer DEM [link](https://github.com/microsoft/PlanetaryComputerExamples/blob/main/datasets/copernicus-dem/copernicus-dem-example.ipynb)"
   ]
  },
  {
   "cell_type": "code",
   "execution_count": null,
   "id": "7f3b1cfa-87ee-40cc-afdc-4d64da970b58",
   "metadata": {},
   "outputs": [],
   "source": [
    "catalogue = {\"url\": \"https://planetarycomputer.microsoft.com/api/stac/v1\",\n",
    "             \"collections\": {\"sentinel\": \"sentinel-2-l2a\", \"dem\": \"cop-dem-glo-30\"}}\n",
    "bands = [\"red\", \"green\", \"blue\", \"nir\", \"SCL\", \"swir16\", \"B05\", \"B8A\"] # Band 05 - Vegetation red edge 1, Band 8A - Vegetation red edge 4\n",
    "raster_defaults = {\"resolution\": 10, \"nodata\": 0, \"dtype\": \"uint16\"}\n",
    "\n",
    "scl_dict = {\"no data\": 0, \"defective\": 1, \"cast shadow\": 2, \"cloud shadow\": 3,\n",
    "            \"vegetation\": 4, \"not vegetated\": 5, \"water\": 6, \"unclassified\": 7,\n",
    "            \"cloud medium probability\": 8, \"cloud high probability\": 9,\n",
    "            \"thin cirrus\": 10, \"snow\": 11}\n",
    "thresholds = {\"min_ndvi\": 0.01, \"max_ndvi\": 0.7, \"max_ndwi\": 0.2, \"min_ndvri\": 0.05}"
   ]
  },
  {
   "cell_type": "code",
   "execution_count": null,
   "id": "e27b01fc-1230-436d-8f7a-81b01efe5467",
   "metadata": {},
   "outputs": [],
   "source": [
    "# use publically available stac link such as\n",
    "odc.stac.configure_rio(cloud_defaults=True, aws={\"aws_unsigned\": True})\n",
    "client = pystac_client.Client.open(catalogue[\"url\"], modifier=planetary_computer.sign_inplace) \n",
    "\n",
    "# Geometry of AOI\n",
    "import geopandas\n",
    "geometry_df = geopandas.read_file(data_path / \"vectors\" / f\"{name}.gpkg\")\n",
    "geometry = geometry_df.to_crs(crs_wsg).iloc[0].geometry\n",
    "land = geopandas.read_file(data_path / \"vectors\" / f\"main_islands.gpkg\")"
   ]
  },
  {
   "cell_type": "markdown",
   "id": "c6fbb0d2-9145-43d1-b0b8-a1d60bcb3451",
   "metadata": {},
   "source": [
    "# Query for the data"
   ]
  },
  {
   "cell_type": "code",
   "execution_count": null,
   "id": "b5db51ef-bd45-499d-a7fa-c1b2f05eef34",
   "metadata": {},
   "outputs": [],
   "source": [
    "date_YYMM = \"2017-02\"\n",
    "filters = {\"eo:cloud_cover\":{\"lt\": cloud_percentage}} # cloud_percentage\n",
    "search_sentinel = client.search(\n",
    "    collections=[catalogue[\"collections\"][\"sentinel\"]], intersects=geometry, datetime=date_YYMM, query=filters\n",
    ") \n",
    "search_dem = client.search(collections=[catalogue[\"collections\"][\"dem\"]], intersects=geometry) \n",
    "\n",
    "pandas.DataFrame.from_records(search_sentinel.item_collection_as_dict()['features'])"
   ]
  },
  {
   "cell_type": "markdown",
   "id": "8aa8c049-513a-4233-846d-fdee853a43f2",
   "metadata": {},
   "source": [
    "## Information about the catalogues"
   ]
  },
  {
   "cell_type": "code",
   "execution_count": null,
   "id": "82f39b1f-132d-4155-ac54-2dc80f277c00",
   "metadata": {},
   "outputs": [],
   "source": [
    "collections = list(client.get_collections())\n",
    "print(f\"Number of collections: {len(collections)}\")\n",
    "print(\"Collections IDs:\")\n",
    "for collection in collections:\n",
    "    if \"dem\" in collection.id.lower():\n",
    "        print(f\"- {collection.id}\")"
   ]
  },
  {
   "cell_type": "code",
   "execution_count": null,
   "id": "8f6c2d26-3713-4fdc-9a5a-8af78d37c1da",
   "metadata": {
    "scrolled": true
   },
   "outputs": [],
   "source": [
    "search_sentinel.item_collection()"
   ]
  },
  {
   "cell_type": "markdown",
   "id": "42d61869-0875-4e69-a73f-8cbdf9e1c925",
   "metadata": {},
   "source": [
    "# Download and constuct Kelp layer"
   ]
  },
  {
   "cell_type": "code",
   "execution_count": null,
   "id": "801770b9-b322-4a30-b151-6ca5dd297f5e",
   "metadata": {},
   "outputs": [],
   "source": [
    "data = odc.stac.load(search_sentinel.items(), geopolygon=geometry, bands=bands, chunks={}, groupby=\"solar_day\",\n",
    "                     resolution = raster_defaults[\"resolution\"], dtype=raster_defaults[\"dtype\"], nodata=raster_defaults[\"nodata\"],\n",
    "                     patch_url=planetary_computer.sign)"
   ]
  },
  {
   "cell_type": "markdown",
   "id": "87110074-aa12-466b-a6a3-29b5fc878518",
   "metadata": {},
   "source": [
    "## Call below if you want to load a DEM\n",
    "Currently DEM is not used"
   ]
  },
  {
   "cell_type": "code",
   "execution_count": null,
   "id": "46661955-df6c-4339-80e2-c9741d4cc787",
   "metadata": {},
   "outputs": [],
   "source": [
    "signed_asset = planetary_computer.sign(list(search_dem.items())[0].assets[\"data\"])\n",
    "dem = rioxarray.open_rasterio(signed_asset.href).squeeze().drop_vars(\"band\")\n",
    "dem.to_netcdf(data_path / \"rasters\" / {name} / \"dem.nc\")"
   ]
  },
  {
   "cell_type": "markdown",
   "id": "7223a61a-e59c-422c-b2ed-476a8d985ec9",
   "metadata": {},
   "source": [
    "## Remove any dates with no valid data"
   ]
  },
  {
   "cell_type": "code",
   "execution_count": null,
   "id": "8eb24be8-d8ab-4978-9cab-283f4e938c92",
   "metadata": {},
   "outputs": [],
   "source": [
    "data[\"SCL\"].load()\n",
    "data[\"SCL\"] = data[\"SCL\"].rio.clip(land.to_crs(data[\"SCL\"].rio.crs).geometry.values, invert=True)\n",
    "data[\"SCL\"].rio.write_crs(data[\"SCL\"].rio.crs, inplace=True);\n",
    "data = data.isel(time=(data[\"SCL\"] != scl_dict[\"no data\"]).any(dim=[\"x\", \"y\"])); # 0 == no SCL data"
   ]
  },
  {
   "cell_type": "code",
   "execution_count": null,
   "id": "de57632f-8324-4aa6-8688-fc996e6ebfb7",
   "metadata": {},
   "outputs": [],
   "source": [
    "ocean_mask = data[\"SCL\"].isel(time=0).copy(deep=True)\n",
    "ocean_mask.data[:] = 1\n",
    "ocean_mask = ocean_mask.rio.clip(land.to_crs(ocean_mask.rio.crs).geometry.values, invert=True)\n",
    "# Mask by time - initially sums of clud values then true / false by time if less than cloud threshold\n",
    "cloud_mask = (data[\"SCL\"] == scl_dict[\"cloud high probability\"]).sum(dim=[\"x\", \"y\"]) \n",
    "cloud_mask += (data[\"SCL\"] == scl_dict[\"thin cirrus\"]).sum(dim=[\"x\", \"y\"])\n",
    "cloud_mask += (data[\"SCL\"] == scl_dict[\"defective\"]).sum(dim=[\"x\", \"y\"])\n",
    "cloud_mask += (data[\"SCL\"] == scl_dict[\"no data\"]).sum(dim=[\"x\", \"y\"]) - int(ocean_mask.sum())\n",
    "cloud_mask = (cloud_mask / int(ocean_mask.sum())) < ocean_cloud_threshold\n",
    "data = data.isel(time=(cloud_mask));"
   ]
  },
  {
   "cell_type": "markdown",
   "id": "5a009ad8-4ac8-4293-93a1-1fdfe22f8b6d",
   "metadata": {},
   "source": [
    "## Caclulate kelp for remaining dates\n",
    "* Convert bands to floats\n",
    "* Caclulate derived indices\n",
    "* Mask out non-kelp areas"
   ]
  },
  {
   "cell_type": "code",
   "execution_count": null,
   "id": "31921dd3-b140-4ee5-a8d5-127699a8186c",
   "metadata": {},
   "outputs": [],
   "source": [
    "for band in bands: \n",
    "    if band == \"SCL\": \n",
    "        continue\n",
    "    data[band] = data[band].astype(\"float32\").where(data[band] != 0, numpy.nan)\n",
    "update_raster_defaults(data)"
   ]
  },
  {
   "cell_type": "code",
   "execution_count": null,
   "id": "d969a71d-93cb-4150-9c84-83730b3a6198",
   "metadata": {},
   "outputs": [],
   "source": [
    "data[\"ndvi\"] = (data.nir - data.red) / (data.nir + data.red)\n",
    "data[\"ndwi\"] = (data.green-data.nir)/(data.green+data.nir)\n",
    "data[\"ndvri\"] = (data.B05-data.red)/(data.B05+data.red);\n",
    "data[\"ndwi2\"] = (data.swir16-data.B05)/(data.swir16+data.B05);\n",
    "update_raster_defaults(data)"
   ]
  },
  {
   "cell_type": "code",
   "execution_count": null,
   "id": "b636980c-d104-4395-a5b3-4c649c4e7c17",
   "metadata": {},
   "outputs": [],
   "source": [
    "data.to_netcdf(data_path / \"rasters\" / name / f'all_bands_{date_YYMM}.nc', format=\"NETCDF4\", engine=\"netcdf4\")"
   ]
  },
  {
   "cell_type": "code",
   "execution_count": null,
   "id": "dd7945f3-9262-4d26-8958-a55c9cb93904",
   "metadata": {},
   "outputs": [],
   "source": [
    "#data[\"kelp\"] = data[\"kelp\"].where(mask, numpy.nan) <= nan set where the mask values are false\n",
    "data[\"kelp\"] = (data.nir - data.red) / (data.nir + data.red)\n",
    "data[\"kelp\"] = data[\"kelp\"].where(data[\"ndvi\"].data > thresholds[\"min_ndvi\"], numpy.nan)\n",
    "data[\"kelp\"] = data[\"kelp\"].where(data[\"ndvi\"].data < thresholds[\"max_ndvi\"], numpy.nan)\n",
    "data[\"kelp\"] = data[\"kelp\"].where(data[\"ndwi\"].data < thresholds[\"max_ndwi\"], numpy.nan)\n",
    "data[\"kelp\"] = data[\"kelp\"].where(data[\"ndvri\"].data > thresholds[\"min_ndvri\"], numpy.nan)\n",
    "data[\"kelp\"] = data[\"kelp\"].rio.clip(land.to_crs(data[\"kelp\"].rio.crs).geometry.values, invert=True)\n",
    "data[\"kelp\"] = data[\"kelp\"].where(data[\"SCL\"] != scl_dict[\"cloud high probability\"], numpy.nan)\n",
    "data[\"kelp\"] = data[\"kelp\"].where(data[\"SCL\"] != scl_dict[\"thin cirrus\"], numpy.nan)\n",
    "data[\"kelp\"] = data[\"kelp\"].where(data[\"SCL\"] != scl_dict[\"defective\"], numpy.nan)\n",
    "update_raster_defaults(data)"
   ]
  },
  {
   "cell_type": "code",
   "execution_count": null,
   "id": "4d34562d-8753-447c-b1d8-1eafdc76b699",
   "metadata": {},
   "outputs": [],
   "source": [
    "data[\"kelp\"].to_netcdf(data_path / \"rasters\" / name / f'kelp_{date_YYMM}.nc', format=\"NETCDF4\", engine=\"netcdf4\")"
   ]
  },
  {
   "cell_type": "code",
   "execution_count": null,
   "id": "e4952ab5-7c4e-49e4-b5b5-3a79b1da6dec",
   "metadata": {},
   "outputs": [],
   "source": [
    "plot_folium(data=data[\"SCL\"].isel(time=1), colour_range=[0,10], name=\"SCL\")"
   ]
  },
  {
   "cell_type": "markdown",
   "id": "4f7e2567-3d29-4e02-9f96-b277c0bd1037",
   "metadata": {},
   "source": [
    "# Display\n",
    "## Geoviews - time scrollbar to left"
   ]
  },
  {
   "cell_type": "code",
   "execution_count": null,
   "id": "00dd2be6-70e8-47d0-8cf6-43b6ab6fd7e3",
   "metadata": {},
   "outputs": [],
   "source": [
    "kelp_display = rioxarray.rioxarray.open_rasterio(data_path / \"rasters\" / name / f'kelp_{date_YYMM}.nc')\n",
    "gv_dataset = geoviews.Dataset(kelp_display, ['x', 'y', 'time'], 'kelp',\n",
    "                              crs=cartopy.crs.epsg(data.rio.crs.to_epsg()))\n",
    "gv_images = gv_dataset .to(geoviews.Image)\n",
    "gv_images.opts(cmap='viridis', colorbar=True, width=600, height=500) * geoviews.feature.coastline"
   ]
  },
  {
   "cell_type": "markdown",
   "id": "34df82c2-5e0b-48fc-bc2d-f84e85655ccb",
   "metadata": {},
   "source": [
    "## Folium interactive map"
   ]
  },
  {
   "cell_type": "code",
   "execution_count": null,
   "id": "fa770d78-d6c3-4e7b-84bd-d4192efccba5",
   "metadata": {},
   "outputs": [],
   "source": [
    "plot_folium(data=data[\"kelp\"].isel(time=1), colour_range=[0,1], name=\"Kelp Index\", land=land)"
   ]
  },
  {
   "cell_type": "markdown",
   "id": "8a1e53c3-e83a-44ac-901e-92b1724ea98d",
   "metadata": {},
   "source": [
    "# Table of Area"
   ]
  },
  {
   "cell_type": "code",
   "execution_count": null,
   "id": "d557b685-8736-4df8-a2fc-6790fd5a7cf9",
   "metadata": {},
   "outputs": [],
   "source": [
    "kelp_info = {\"date\": [], \"area\": []}\n",
    "for index in range(len(kelp_display.time)):\n",
    "    kelp = kelp_display.isel(time=index).load()\n",
    "    kelp_info[\"area\"].append(abs(int(kelp.notnull().sum() * kelp.x.resolution * kelp.y.resolution)))\n",
    "    kelp_info[\"date\"].append(pandas.to_datetime(data.time.data[index]).strftime(date_format))\n",
    "kelp_info = pandas.DataFrame.from_dict(kelp_info, orient='columns')\n",
    "#figure = plotly.express.line(kelp_info, x = 'date', y = 'area', title=\"Area against date\")\n",
    "#figure.show()\n",
    "\n",
    "'''p = bokeh.plotting.figure()\n",
    "p.line(x='date', y='area', source=bokeh.models.ColumnDataSource(kelp_info), color='green')\n",
    "p.title.text = 'Kelp Area by Date'\n",
    "p.xaxis.axis_label = 'Date'\n",
    "p.yaxis.axis_label = 'm^2 of Kelp'\n",
    "\n",
    "hover = bokeh.models.tools.HoverTool()\n",
    "hover.tooltips=[('Date', '@date'), ('Area', '@area'),]\n",
    "p.add_tools(hover)\n",
    "\n",
    "bokeh.plotting.show(p)'''\n",
    "kelp_info"
   ]
  },
  {
   "cell_type": "code",
   "execution_count": null,
   "id": "1354252e-0285-4aef-b766-6f94786109f2",
   "metadata": {},
   "outputs": [],
   "source": []
  }
 ],
 "metadata": {
  "kernelspec": {
   "display_name": "Satellite",
   "language": "python",
   "name": "satellite"
  },
  "language_info": {
   "codemirror_mode": {
    "name": "ipython",
    "version": 3
   },
   "file_extension": ".py",
   "mimetype": "text/x-python",
   "name": "python",
   "nbconvert_exporter": "python",
   "pygments_lexer": "ipython3",
   "version": "3.11.0"
  }
 },
 "nbformat": 4,
 "nbformat_minor": 5
}
