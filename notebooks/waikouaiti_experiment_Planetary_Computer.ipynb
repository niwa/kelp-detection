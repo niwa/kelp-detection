{
 "cells": [
  {
   "cell_type": "code",
   "execution_count": null,
   "id": "6bf697db-3cd7-4938-89a1-c2d9dd2090f1",
   "metadata": {},
   "outputs": [],
   "source": [
    "import pystac_client\n",
    "import pystac\n",
    "import odc.stac\n",
    "import geopandas\n",
    "import xarray \n",
    "import rioxarray\n",
    "import planetary_computer\n",
    "import pathlib\n",
    "import pandas\n",
    "import numpy\n",
    "import folium\n",
    "import plotly.express\n",
    "import cartopy \n",
    "import dask.distributed\n",
    "import branca.element, branca.colormap # Remove whitespace around small folium map\n",
    "import bokeh\n",
    "import hvplot.xarray\n"
   ]
  },
  {
   "cell_type": "code",
   "execution_count": null,
   "id": "46667152-8219-434d-982c-c87a962c5397",
   "metadata": {},
   "outputs": [],
   "source": [
    "def geopandas_bounds_to_plot(dataframe, crs=4326):\n",
    "    \"\"\" Changing bounding box representation to leaflet notation ``(lon1, lat1, lon2, lat2) -> ((lat1, lon1), (lat2, lon2))`` \"\"\"\n",
    "    x1, y1, x2, y2 = dataframe.to_crs(crs).total_bounds\n",
    "    return ((y1, x1), (y2, x2))"
   ]
  },
  {
   "cell_type": "code",
   "execution_count": null,
   "id": "f2c99e47-3649-4217-8bf9-60dca97b5983",
   "metadata": {},
   "outputs": [],
   "source": [
    "def update_raster_defaults(raster):\n",
    "    # works on DataArrays and Datasets and for ints and floats\n",
    "    if isinstance(raster, xarray.Dataset):\n",
    "        for key in raster.data_vars:\n",
    "            raster[key].rio.write_crs(raster[key].rio.crs, inplace=True)\n",
    "            if raster[key].data.dtype == 'uint16':\n",
    "                raster[key].rio.write_nodata(0, encoded=True, inplace=True)\n",
    "            else: # assume float\n",
    "                raster[key].rio.write_nodata(numpy.nan, encoded=True, inplace=True)\n",
    "    raster.rio.write_crs(raster.rio.crs, inplace=True)\n",
    "    if isinstance(raster, xarray.DataArray):\n",
    "        if raster.data.dtype == 'uint16':\n",
    "            raster.rio.write_nodata(0, encoded=True, inplace=True)\n",
    "        else: # assume float\n",
    "            raster.rio.write_nodata(numpy.nan, encoded=True, inplace=True)"
   ]
  },
  {
   "cell_type": "code",
   "execution_count": null,
   "id": "8facea19-df55-4342-acc3-5c6d0a5f882e",
   "metadata": {},
   "outputs": [],
   "source": [
    "def normalise_rgb(data):\n",
    "    rgb_normalize = data.copy(deep=True)\n",
    "    if rgb_normalize.data.dtype == 'uint16':\n",
    "        rgb_normalize = rgb_normalize.astype(\"float32\").where(rgb_normalize != 0, numpy.nan)\n",
    "    for colour in [\"red\", \"green\", \"blue\"]:\n",
    "        colour_slice = rgb_normalize.loc[colour]\n",
    "        rgb_normalize.loc[colour] = ((colour_slice - colour_slice.min()) / (colour_slice.max() - colour_slice.min()))\n",
    "    return rgb_normalize"
   ]
  },
  {
   "cell_type": "code",
   "execution_count": null,
   "id": "7b1584f9-73f7-4221-a7e4-fbe00ab9a5fc",
   "metadata": {},
   "outputs": [],
   "source": [
    "def plot_rgb(data):\n",
    "    data = normalise_rgb(data)\n",
    "    display(data.hvplot.rgb(x='x', y='y', bands='rgb', data_aspect=1, flip_yaxis=True, xaxis=False, yaxis=None, subplots=True, by='time', robust=True))"
   ]
  },
  {
   "cell_type": "code",
   "execution_count": null,
   "id": "cd9898bf-d642-494c-9327-e98fc9cad63c",
   "metadata": {},
   "outputs": [],
   "source": [
    "def plot_layer(layer):\n",
    "    display(layer.hvplot.image(x='x', y='y', data_aspect=1, flip_yaxis=True, subplots=True, by='time', coastline=\"10m\"))"
   ]
  },
  {
   "cell_type": "markdown",
   "id": "98f8897c-96fd-4d53-8ed6-df20d87e9dfc",
   "metadata": {},
   "source": [
    "# Dask for performance"
   ]
  },
  {
   "cell_type": "code",
   "execution_count": null,
   "id": "06a342b1-4e4c-486e-a009-310ff9cceaf7",
   "metadata": {},
   "outputs": [],
   "source": [
    "client = dask.distributed.Client()\n",
    "odc.stac.configure_rio(cloud_defaults=True, client=client)\n",
    "display(client)"
   ]
  },
  {
   "cell_type": "markdown",
   "id": "2e6d46f6-bad3-4fff-82c7-a3d64f5985b1",
   "metadata": {},
   "source": [
    "# Path setup for data within the repository"
   ]
  },
  {
   "cell_type": "code",
   "execution_count": null,
   "id": "60a02723-4543-4ea2-aa51-02e4dac0bdc2",
   "metadata": {},
   "outputs": [],
   "source": [
    "data_path = pathlib.Path.cwd() / \"..\" / \"data\"\n",
    "crs_wsg = 4326\n",
    "crs = 2193\n",
    "name = \"waikouaiti\"\n",
    "filter_cloud_percentage = 30\n",
    "ocean_cloud_percentage = 10\n",
    "date_format = \"%Y-%m-%d\"\n",
    "(data_path / \"rasters\" / name).mkdir(parents=True, exist_ok=True)"
   ]
  },
  {
   "cell_type": "markdown",
   "id": "6c3118f8-e86f-4c40-ae56-74c7a5a61a0c",
   "metadata": {},
   "source": [
    "# STAC band names\n",
    "* information on Planetary Computer Catalogue - https://stacindex.org/catalogs/microsoft-pc#/\n",
    "* Information on the Copernicus DEM's - https://object.cloud.sdsc.edu/v1/AUTH_opentopography/www/metadata/Copernicus_metadata.pdf\n",
    "* Good example notebook working with Coperni# STAC band names\n",
    "* information on Planetary Computer Catalogue - https://stacindex.org/catalogs/microsoft-pc#/\n",
    "   * [ Sentinel-2 Level-2A ](https://stacindex.org/catalogs/microsoft-pc#/43bjKKcJQfxYaT1ir3Ep6uENfjEoQrjkzhd2)\n",
    "* Information on the Copernicus DEM's - https://object.cloud.sdsc.edu/v1/AUTH_opentopography/www/metadata/Copernicus_metadata.pdf\n",
    "* Good example notebook working with Copernicus Planteary Computer DEM [link](https://github.com/microsoft/PlanetaryComputerExamples/blob/main/datasets/copernicus-dem/copernicus-dem-example.ipynb)\n",
    "* Notes on baseline change - may need to update normalisation - https://github.com/microsoft/PlanetaryComputerExamples/blob/main/datasets/sentinel-2-l2a/baseline-change.ipynbcus Planteary Computer DEM [link](https://github.com/microsoft/PlanetaryComputerExamples/blob/main/datasets/copernicus-dem/copernicus-dem-example.ipynb)"
   ]
  },
  {
   "cell_type": "code",
   "execution_count": null,
   "id": "7f3b1cfa-87ee-40cc-afdc-4d64da970b58",
   "metadata": {},
   "outputs": [],
   "source": [
    "catalogue = {\"url\": \"https://planetarycomputer.microsoft.com/api/stac/v1\",\n",
    "             \"collections\": {\"sentinel\": \"sentinel-2-l2a\", \"dem\": \"cop-dem-glo-30\"}}\n",
    "bands = [\"red\", \"green\", \"blue\", \"nir\", \"SCL\", \"swir16\", \"B05\", \"B8A\"] # Band 05 - Vegetation red edge 1, Band 8A - Vegetation red edge 4\n",
    "raster_defaults = {\"resolution\": 10, \"nodata\": 0, \"dtype\": \"uint16\"}\n",
    "scl_dict = {\"no data\": 0, \"defective\": 1, \"cast shadow\": 2, \"cloud shadow\": 3,\n",
    "            \"vegetation\": 4, \"not vegetated\": 5, \"water\": 6, \"unclassified\": 7,\n",
    "            \"cloud medium probability\": 8, \"cloud high probability\": 9,\n",
    "            \"thin cirrus\": 10, \"snow\": 11}"
   ]
  },
  {
   "cell_type": "code",
   "execution_count": null,
   "id": "e27b01fc-1230-436d-8f7a-81b01efe5467",
   "metadata": {},
   "outputs": [],
   "source": [
    "# use publically available stac link such as\n",
    "odc.stac.configure_rio(cloud_defaults=True, aws={\"aws_unsigned\": True})\n",
    "client = pystac_client.Client.open(catalogue[\"url\"], modifier=planetary_computer.sign_inplace) \n",
    "\n",
    "# Geometry of AOI\n",
    "geometry_df = geopandas.read_file(data_path / \"vectors\" / f\"{name}.gpkg\")\n",
    "geometry = geometry_df.to_crs(crs_wsg).iloc[0].geometry\n",
    "land = geopandas.read_file(data_path / \"vectors\" / f\"main_islands.gpkg\")"
   ]
  },
  {
   "cell_type": "markdown",
   "id": "c6fbb0d2-9145-43d1-b0b8-a1d60bcb3451",
   "metadata": {},
   "source": [
    "# Query for the data"
   ]
  },
  {
   "cell_type": "code",
   "execution_count": null,
   "id": "b5db51ef-bd45-499d-a7fa-c1b2f05eef34",
   "metadata": {},
   "outputs": [],
   "source": [
    "date_YYMM = \"2020-05\"\n",
    "filters = {\"eo:cloud_cover\":{\"lt\":filter_cloud_percentage}}\n",
    "search_sentinel = client.search(\n",
    "    collections=[catalogue[\"collections\"][\"sentinel\"]], intersects=geometry, datetime=date_YYMM, query=filters\n",
    ") \n",
    "search_dem = client.search(collections=[catalogue[\"collections\"][\"dem\"]], intersects=geometry) \n",
    "\n",
    "pandas.DataFrame.from_records(search_sentinel.item_collection_as_dict()['features'])"
   ]
  },
  {
   "cell_type": "markdown",
   "id": "8aa8c049-513a-4233-846d-fdee853a43f2",
   "metadata": {},
   "source": [
    "# Optional \n",
    "### Information about the catalogues"
   ]
  },
  {
   "cell_type": "code",
   "execution_count": null,
   "id": "82f39b1f-132d-4155-ac54-2dc80f277c00",
   "metadata": {},
   "outputs": [],
   "source": [
    "collections = list(client.get_collections())\n",
    "print(f\"Number of collections: {len(collections)}\")\n",
    "print(\"Collections IDs:\")\n",
    "for collection in collections:\n",
    "    if \"dem\" in collection.id.lower():\n",
    "        print(f\"- {collection.id}\")\n",
    "search_sentinel.item_collection()"
   ]
  },
  {
   "cell_type": "markdown",
   "id": "87110074-aa12-466b-a6a3-29b5fc878518",
   "metadata": {},
   "source": [
    "### Call below if you want to load a DEM\n",
    "Currently DEM is not used"
   ]
  },
  {
   "cell_type": "code",
   "execution_count": null,
   "id": "46661955-df6c-4339-80e2-c9741d4cc787",
   "metadata": {},
   "outputs": [],
   "source": [
    "signed_asset = planetary_computer.sign(list(search_dem.items())[0].assets[\"data\"])\n",
    "dem = rioxarray.open_rasterio(signed_asset.href).squeeze().drop_vars(\"band\")\n",
    "dem.to_netcdf(data_path / \"rasters\" / name / \"dem.nc\")"
   ]
  },
  {
   "cell_type": "markdown",
   "id": "42d61869-0875-4e69-a73f-8cbdf9e1c925",
   "metadata": {},
   "source": [
    "# Download and constuct Kelp layer"
   ]
  },
  {
   "cell_type": "code",
   "execution_count": null,
   "id": "801770b9-b322-4a30-b151-6ca5dd297f5e",
   "metadata": {},
   "outputs": [],
   "source": [
    "data = odc.stac.load(search_sentinel.items(), geopolygon=geometry, bands=bands, chunks={}, groupby=\"solar_day\",\n",
    "                     resolution = raster_defaults[\"resolution\"], dtype=raster_defaults[\"dtype\"], nodata=raster_defaults[\"nodata\"],\n",
    "                     patch_url=planetary_computer.sign)"
   ]
  },
  {
   "cell_type": "markdown",
   "id": "6fb85122-278e-49fd-9064-6796bc7c8fdc",
   "metadata": {},
   "source": [
    "# Display RGB & SCL \n",
    "Display prior to filtering our dates"
   ]
  },
  {
   "cell_type": "code",
   "execution_count": null,
   "id": "8b1fb422-2a7b-46ef-b11b-07feb945b8d9",
   "metadata": {},
   "outputs": [],
   "source": [
    "plot_layer(data[\"SCL\"])"
   ]
  },
  {
   "cell_type": "code",
   "execution_count": null,
   "id": "a14bb5f6-c283-4476-9e88-778a12fc7459",
   "metadata": {},
   "outputs": [],
   "source": [
    "rgb = data[[\"red\", \"green\",\"blue\"]].to_array(\"rgb\", name=\"all images\")\n",
    "rgb = rgb.compute()\n",
    "update_raster_defaults(rgb)\n",
    "plot_rgb(rgb)"
   ]
  },
  {
   "cell_type": "markdown",
   "id": "7223a61a-e59c-422c-b2ed-476a8d985ec9",
   "metadata": {},
   "source": [
    "## Remove any dates with no valid data or much cloud over the ocean"
   ]
  },
  {
   "cell_type": "code",
   "execution_count": null,
   "id": "736c3fbf-1631-4db2-8405-25e6e4aad68a",
   "metadata": {},
   "outputs": [],
   "source": [
    "data[\"SCL\"].load()\n",
    "data[\"SCL\"] = data[\"SCL\"].rio.clip(land.to_crs(data[\"SCL\"].rio.crs).geometry.values, invert=True)\n",
    "data[\"SCL\"].rio.write_crs(data[\"SCL\"].rio.crs, inplace=True);\n",
    "data = data.isel(time=(data[\"SCL\"] != scl_dict[\"no data\"]).any(dim=[\"x\", \"y\"])); # 0 == no SCL data\n",
    "\n",
    "ocean_mask = data[\"SCL\"].isel(time=0).copy(deep=True)\n",
    "ocean_mask.data[:] = 1\n",
    "ocean_mask = ocean_mask.rio.clip(land.to_crs(ocean_mask.rio.crs).geometry.values, invert=True)\n",
    "# Mask by time - initially sums of cloud values then true / false by time if less than cloud threshold\n",
    "cloud_mask = (data[\"SCL\"] == scl_dict[\"cloud high probability\"]).sum(dim=[\"x\", \"y\"]) \n",
    "cloud_mask += (data[\"SCL\"] == scl_dict[\"thin cirrus\"]).sum(dim=[\"x\", \"y\"])\n",
    "cloud_mask += (data[\"SCL\"] == scl_dict[\"defective\"]).sum(dim=[\"x\", \"y\"])\n",
    "cloud_mask += (data[\"SCL\"] == scl_dict[\"no data\"]).sum(dim=[\"x\", \"y\"]) - (ocean_mask == scl_dict[\"no data\"]).sum(dim=[\"x\", \"y\"])\n",
    "print(f\"Ocean cloud percentage {list(map('{:.2f}%'.format,(cloud_mask / int(ocean_mask.sum())).data*100))}\")\n",
    "cloud_mask_time = (cloud_mask / int(ocean_mask.sum())) < (ocean_cloud_percentage / 100)\n",
    "data = data.isel(time=(cloud_mask_time));"
   ]
  },
  {
   "cell_type": "code",
   "execution_count": null,
   "id": "952766bd-7940-4d7d-a0f6-3a4b136a5ee2",
   "metadata": {},
   "outputs": [],
   "source": [
    "rgb = data[[\"red\", \"green\",\"blue\"]].to_array(\"rgb\", name=\"all images\")\n",
    "update_raster_defaults(data)\n",
    "rgb.to_netcdf(data_path / \"rasters\" / name / f'rgb_2_{date_YYMM}.nc', format=\"NETCDF4\", engine=\"netcdf4\")\n",
    "rgb = rgb.compute()"
   ]
  },
  {
   "cell_type": "markdown",
   "id": "06119c0a-845b-4ead-b7e2-c54ecf3d0bfa",
   "metadata": {},
   "source": [
    "# Display RBG and SCL"
   ]
  },
  {
   "cell_type": "code",
   "execution_count": null,
   "id": "c14cb8b3-bb29-445b-8b2f-a49821dd8cf8",
   "metadata": {},
   "outputs": [],
   "source": [
    "plot_layer(data[\"SCL\"])"
   ]
  },
  {
   "cell_type": "code",
   "execution_count": null,
   "id": "b68b32b3-41cd-451f-b12f-42ca280b04ba",
   "metadata": {},
   "outputs": [],
   "source": [
    "plot_rgb(rgb)"
   ]
  },
  {
   "cell_type": "markdown",
   "id": "5a009ad8-4ac8-4293-93a1-1fdfe22f8b6d",
   "metadata": {},
   "source": [
    "# Caclulate kelp and plot\n",
    "* Caclulate derived indices\n",
    "* Mask out non-kelp areas"
   ]
  },
  {
   "cell_type": "code",
   "execution_count": null,
   "id": "d969a71d-93cb-4150-9c84-83730b3a6198",
   "metadata": {},
   "outputs": [],
   "source": [
    "for key in data.data_vars:\n",
    "    if key == \"SCL\": \n",
    "        continue\n",
    "    data[key] = data[key].astype(\"float32\").where(data[key] != 0, numpy.nan)\n",
    "update_raster_defaults(data)\n",
    "data[\"ndvi\"] = (data.nir - data.red) / (data.nir + data.red)\n",
    "data[\"ndwi\"] = (data.green - data.nir)/(data.green + data.nir)\n",
    "data[\"ndvri\"] = (data.B05 - data.red)/(data.B05 + data.red);\n",
    "data[\"ndwi2\"] = (data.swir16 + data.B05) / (data.swir16 - data.B05)\n",
    "update_raster_defaults(data)"
   ]
  },
  {
   "cell_type": "code",
   "execution_count": null,
   "id": "b636980c-d104-4395-a5b3-4c649c4e7c17",
   "metadata": {},
   "outputs": [],
   "source": [
    "data.to_netcdf(data_path / \"rasters\" / name / f'all_bands_{date_YYMM}.nc', format=\"NETCDF4\", engine=\"netcdf4\")"
   ]
  },
  {
   "cell_type": "code",
   "execution_count": null,
   "id": "dd7945f3-9262-4d26-8958-a55c9cb93904",
   "metadata": {},
   "outputs": [],
   "source": [
    "thresholds = {\"min_ndvi\": 0.03, \"max_ndvi\": 0.7, \"max_ndwi\": 0.1, \"min_ndvri\": 0.03, \"max_ndwi2\": -0.2,}\n",
    "#data[\"kelp\"] = data[\"kelp\"].where(mask, numpy.nan) <= nan set where the mask values are false\n",
    "data[\"kelp\"] = (data.nir - data.red) / (data.nir + data.red)\n",
    "data[\"kelp\"] = data[\"kelp\"].where(data[\"ndvi\"].data > thresholds[\"min_ndvi\"], numpy.nan)\n",
    "data[\"kelp\"] = data[\"kelp\"].where(data[\"ndwi\"].data < thresholds[\"max_ndwi\"], numpy.nan)\n",
    "data[\"kelp\"] = data[\"kelp\"].where(data[\"ndwi2\"].data < thresholds[\"max_ndwi2\"], numpy.nan)\n",
    "#data[\"kelp\"] = data[\"kelp\"].where(data[\"ndvi\"].data < thresholds[\"max_ndvi\"], numpy.nan)\n",
    "#data[\"kelp\"] = data[\"kelp\"].where(data[\"ndvri\"].data > thresholds[\"min_ndvri\"], numpy.nan)\n",
    "data[\"kelp\"] = data[\"kelp\"].rio.clip(land.to_crs(data[\"kelp\"].rio.crs).geometry.values, invert=True)\n",
    "data[\"kelp\"] = data[\"kelp\"].where(data[\"SCL\"] != scl_dict[\"cloud high probability\"], numpy.nan)\n",
    "data[\"kelp\"] = data[\"kelp\"].where(data[\"SCL\"] != scl_dict[\"thin cirrus\"], numpy.nan)\n",
    "data[\"kelp\"] = data[\"kelp\"].where(data[\"SCL\"] != scl_dict[\"defective\"], numpy.nan)\n",
    "data[\"kelp\"] = data[\"kelp\"].where(data[\"SCL\"] != scl_dict[\"cast shadow\"], numpy.nan)\n",
    "data[\"kelp\"] = data[\"kelp\"].where(data[\"SCL\"] != scl_dict[\"cloud shadow\"], numpy.nan)\n",
    "data[\"kelp\"] = data[\"kelp\"].where(data[\"SCL\"] != scl_dict[\"cloud medium probability\"], numpy.nan)\n",
    "update_raster_defaults(data)\n",
    "print(f\"Area for thresholds {thresholds} is {abs(int(data['kelp'].isel(time=index).load().notnull().sum() * data['kelp'].isel(time=index).load().x.resolution * data['kelp'].isel(time=index).load().y.resolution)) for index in range(len(data['kelp'].time))]} m2\")\n",
    "plot_layer(data[\"kelp\"])"
   ]
  },
  {
   "cell_type": "code",
   "execution_count": null,
   "id": "b1523cee-49cf-4a6b-a8f8-fd26ff5e75bc",
   "metadata": {},
   "outputs": [],
   "source": [
    "data[\"kelp\"].to_netcdf(data_path / \"rasters\" / name / f'kelp_{date_YYMM}.nc', format=\"NETCDF4\", engine=\"netcdf4\")\n",
    "kelp_display = rioxarray.rioxarray.open_rasterio(data_path / \"rasters\" / name / f'kelp_{date_YYMM}.nc')\n",
    "#print(f\"Area for thresholds {thresholds} is {[abs(int(kelp_display.isel(time=index).load().compute().notnull().sum() * kelp_display.isel(time=index).load().x.resolution * kelp_display.isel(time=index).load().y.resolution)) for index in range(len(kelp_display.time))]} m2\")"
   ]
  },
  {
   "cell_type": "markdown",
   "id": "b201ca5c-e3c9-45d1-9a0c-2c85f24ff9a0",
   "metadata": {},
   "source": [
    "# Table of areas"
   ]
  },
  {
   "cell_type": "code",
   "execution_count": null,
   "id": "d557b685-8736-4df8-a2fc-6790fd5a7cf9",
   "metadata": {},
   "outputs": [],
   "source": [
    "kelp_display = rioxarray.rioxarray.open_rasterio(data_path / \"rasters\" / name / f'kelp_{date_YYMM}.nc')\n",
    "kelp_info = {\"date\": [], \"area\": []}\n",
    "for index in range(len(kelp_display.time)):\n",
    "    kelp = kelp_display.isel(time=index).load()\n",
    "    kelp_info[\"area\"].append(abs(int(kelp.notnull().sum() * kelp.x.resolution * kelp.y.resolution)))\n",
    "    kelp_info[\"date\"].append(pandas.to_datetime(data.time.data[index]).strftime(date_format))\n",
    "kelp_info = pandas.DataFrame.from_dict(kelp_info, orient='columns')\n",
    "kelp_info"
   ]
  },
  {
   "cell_type": "code",
   "execution_count": null,
   "id": "208025cb-534a-4906-8b4b-2673cb3fbccd",
   "metadata": {},
   "outputs": [],
   "source": []
  }
 ],
 "metadata": {
  "kernelspec": {
   "display_name": "Satellite",
   "language": "python",
   "name": "satellite"
  },
  "language_info": {
   "codemirror_mode": {
    "name": "ipython",
    "version": 3
   },
   "file_extension": ".py",
   "mimetype": "text/x-python",
   "name": "python",
   "nbconvert_exporter": "python",
   "pygments_lexer": "ipython3",
   "version": "3.11.0"
  }
 },
 "nbformat": 4,
 "nbformat_minor": 5
}
