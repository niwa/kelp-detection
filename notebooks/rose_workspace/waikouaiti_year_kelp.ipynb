{
 "cells": [
  {
   "cell_type": "code",
   "execution_count": 1,
   "id": "6bf697db-3cd7-4938-89a1-c2d9dd2090f1",
   "metadata": {},
   "outputs": [],
   "source": [
    "import pystac_client\n",
    "import pystac\n",
    "import odc.stac\n",
    "import rioxarray\n",
    "import pathlib\n",
    "import pandas\n",
    "import geopandas\n",
    "import numpy\n",
    "import folium\n",
    "import dotenv\n",
    "import branca.element, branca.colormap # Remove whitespace around small folium map"
   ]
  },
  {
   "cell_type": "markdown",
   "id": "c7a03811-afb1-4b75-af86-c6c661dc783b",
   "metadata": {},
   "source": [
    "# Across Otago\n",
    "* Look at breaking into smaller sections\n",
    "* Discuss how to break up the country\n",
    "* Where to compute - Jupyter Lab Compernucus vs HPC\n",
    "* Displays - Area covered by date, Spectrum plots, designated water + kelp areas + spectrum"
   ]
  },
  {
   "cell_type": "code",
   "execution_count": 2,
   "id": "46667152-8219-434d-982c-c87a962c5397",
   "metadata": {},
   "outputs": [],
   "source": [
    "def geopandas_bounds_to_plot(dataframe, crs=4326):\n",
    "    \"\"\" Changing bounding box representation to leaflet notation ``(lon1, lat1, lon2, lat2) -> ((lat1, lon1), (lat2, lon2))`` \"\"\"\n",
    "    x1, y1, x2, y2 = dataframe.to_crs(crs).total_bounds\n",
    "    return ((y1, x1), (y2, x2))"
   ]
  },
  {
   "cell_type": "code",
   "execution_count": 3,
   "id": "46cd3c98-d900-453f-93bb-bc4e588faad2",
   "metadata": {},
   "outputs": [],
   "source": [
    "def check_offset_scale(search):\n",
    "    \"\"\" Check expected offset and scale \"\"\"\n",
    "    for item in search.item_collection():\n",
    "        for band in bands:\n",
    "            if band == \"scl\": \n",
    "                continue\n",
    "            if item.assets[band].extra_fields['raster:bands'][0]['offset'] != OFFSET:\n",
    "                raise Exception(\"offset doesn't match expected\")\n",
    "            if item.assets[band].extra_fields['raster:bands'][0]['scale'] != SCALE:\n",
    "                raise Exception(\"scale doesn't match expected\")"
   ]
  },
  {
   "cell_type": "code",
   "execution_count": 4,
   "id": "bc80717b-7fca-41ef-897b-1eddd7715028",
   "metadata": {},
   "outputs": [],
   "source": [
    "data_path = pathlib.Path.cwd() / \"..\" / \"data\"\n",
    "crs_wsg = 4326\n",
    "crs = 2193\n",
    "name = \"waikouaiti\"\n",
    "(data_path / \"rasters\" / name).mkdir(parents=True, exist_ok=True)\n",
    "(data_path / \"vectors\").mkdir(parents=True, exist_ok=True)"
   ]
  },
  {
   "cell_type": "markdown",
   "id": "6486c178-4b9d-43b5-a6b3-b74df4bf16ab",
   "metadata": {},
   "source": [
    "## Setup input datasets"
   ]
  },
  {
   "cell_type": "code",
   "execution_count": 5,
   "id": "3581d747-43f6-413b-8085-a08172cf1905",
   "metadata": {},
   "outputs": [
    {
     "ename": "NameError",
     "evalue": "name 'os' is not defined",
     "output_type": "error",
     "traceback": [
      "\u001b[1;31m---------------------------------------------------------------------------\u001b[0m",
      "\u001b[1;31mNameError\u001b[0m                                 Traceback (most recent call last)",
      "Cell \u001b[1;32mIn[5], line 3\u001b[0m\n\u001b[0;32m      1\u001b[0m \u001b[38;5;28;01mif\u001b[39;00m \u001b[38;5;129;01mnot\u001b[39;00m (data_path \u001b[38;5;241m/\u001b[39m \u001b[38;5;124m\"\u001b[39m\u001b[38;5;124mvectors\u001b[39m\u001b[38;5;124m\"\u001b[39m \u001b[38;5;241m/\u001b[39m \u001b[38;5;124m\"\u001b[39m\u001b[38;5;124mregions.gpkg\u001b[39m\u001b[38;5;124m\"\u001b[39m)\u001b[38;5;241m.\u001b[39mexists() \u001b[38;5;129;01mor\u001b[39;00m \u001b[38;5;129;01mnot\u001b[39;00m (data_path \u001b[38;5;241m/\u001b[39m \u001b[38;5;124m\"\u001b[39m\u001b[38;5;124mvectors\u001b[39m\u001b[38;5;124m\"\u001b[39m \u001b[38;5;241m/\u001b[39m \u001b[38;5;124m\"\u001b[39m\u001b[38;5;124mmain_islands.gpkg\u001b[39m\u001b[38;5;124m\"\u001b[39m)\u001b[38;5;241m.\u001b[39mexists():\n\u001b[0;32m      2\u001b[0m     dotenv\u001b[38;5;241m.\u001b[39mload_dotenv()\n\u001b[1;32m----> 3\u001b[0m     linz_key \u001b[38;5;241m=\u001b[39m \u001b[43mos\u001b[49m\u001b[38;5;241m.\u001b[39menviron\u001b[38;5;241m.\u001b[39mget(\u001b[38;5;124m\"\u001b[39m\u001b[38;5;124mLINZ_API\u001b[39m\u001b[38;5;124m\"\u001b[39m, \u001b[38;5;28;01mNone\u001b[39;00m)\n\u001b[0;32m      4\u001b[0m     fetcher \u001b[38;5;241m=\u001b[39m geoapis\u001b[38;5;241m.\u001b[39mvector\u001b[38;5;241m.\u001b[39mLinz(linz_key, verbose\u001b[38;5;241m=\u001b[39m\u001b[38;5;28;01mFalse\u001b[39;00m, crs\u001b[38;5;241m=\u001b[39mcrs)\n\u001b[0;32m      5\u001b[0m     regions \u001b[38;5;241m=\u001b[39m fetcher\u001b[38;5;241m.\u001b[39mrun(\u001b[38;5;241m50785\u001b[39m)\n",
      "\u001b[1;31mNameError\u001b[0m: name 'os' is not defined"
     ]
    }
   ],
   "source": [
    "if not (data_path / \"vectors\" / \"regions.gpkg\").exists() or not (data_path / \"vectors\" / \"main_islands.gpkg\").exists():\n",
    "    dotenv.load_dotenv()\n",
    "    linz_key = os.environ.get(\"LINZ_API\", None)\n",
    "    fetcher = geoapis.vector.Linz(linz_key, verbose=False, crs=crs)\n",
    "    regions = fetcher.run(50785)\n",
    "    islands = fetcher.run(51153)\n",
    "    \n",
    "    main_islands = islands[islands.area > 9e8]\n",
    "    \n",
    "    regions.to_file(data_path / \"vectors\" / \"regions.gpkg\")\n",
    "    main_islands.to_file(data_path / \"vectors\" / \"main_islands.gpkg\")"
   ]
  },
  {
   "cell_type": "markdown",
   "id": "4344576b-7676-47b3-936d-4c4f9d3ba380",
   "metadata": {},
   "source": [
    "## Create Kelp raster maps"
   ]
  },
  {
   "cell_type": "code",
   "execution_count": null,
   "id": "cf41f55e-fb36-4a13-b5bc-22eadeb276fd",
   "metadata": {},
   "outputs": [],
   "source": [
    "bands = [\"red\", \"green\", \"blue\", \"nir\", \"scl\"]\n",
    "filters = {\"eo:cloud_cover\":{\"lt\":10}} \n",
    "SCL_CIRRUS = 10\n",
    "SCL_CLOUD = 9\n",
    "SCL_DEFECTIVE = 1\n",
    "SCL_NO_DATA = 0\n",
    "OFFSET = -0.1\n",
    "SCALE = 0.0001\n",
    "thresholds = {\"min_ndvi\": 0.01, \"max_ndvi\": 0.7, \"max_ndwi\": 0.2}"
   ]
  },
  {
   "cell_type": "code",
   "execution_count": null,
   "id": "e27b01fc-1230-436d-8f7a-81b01efe5467",
   "metadata": {},
   "outputs": [],
   "source": [
    "# use publically available stac link such as\n",
    "odc.stac.configure_rio(cloud_defaults=True, aws={\"aws_unsigned\": True})\n",
    "client = pystac_client.Client.open(\"https://earth-search.aws.element84.com/v1\") \n",
    "\n",
    "# ID of the collection\n",
    "collection = \"sentinel-2-c1-l2a\"\n",
    "\n",
    "# Geometry of AOI - convex hull to allow search\n",
    "land = geopandas.read_file(data_path / \"vectors\" / \"main_islands.geojson\")\n",
    "geometry_df = geopandas.read_file(data_path / \"vectors\" / f\"{name.lower()}.gpkg\")\n",
    "geometry_query = geometry_df .to_crs(crs_wsg).iloc[0].geometry"
   ]
  },
  {
   "cell_type": "code",
   "execution_count": null,
   "id": "a46b2649-0e05-49e2-a165-76181b632e0f",
   "metadata": {},
   "outputs": [],
   "source": [
    "year = 2020\n",
    "months = [f\"{year}-{str(month).zfill(2)}\" for month in list(range(1, 13))]"
   ]
  },
  {
   "cell_type": "code",
   "execution_count": null,
   "id": "e59a5dd9-d2f4-41d0-8591-eaecadda9250",
   "metadata": {},
   "outputs": [],
   "source": [
    "for month_YYMM in months:\n",
    "    print(f\"Check month: {month_YYMM}\")\n",
    "    # run pystac client search to see available dataset\n",
    "    search = client.search(\n",
    "        collections=[collection], intersects=geometry_query, datetime=month_YYMM, query=filters\n",
    "    ) \n",
    "\n",
    "    if len(search.item_collection()) == 0:\n",
    "        continue # Nothing meeting criteria for this month\n",
    "\n",
    "    check_offset_scale(search)\n",
    "\n",
    "    data = odc.stac.load(search.items(), geopolygon=geometry_query, bands=bands,  chunks={}, groupby=\"solar_day\")\n",
    "\n",
    "    # remove if no data\n",
    "    data[\"scl\"].load()\n",
    "    data[\"scl\"] = data[\"scl\"].rio.clip(land.to_crs(data[\"scl\"].rio.crs).geometry.values, invert=True, drop=False)\n",
    "    data[\"scl\"].rio.write_crs(data[\"scl\"].rio.crs, inplace=True);\n",
    "    data = data.isel(time=(data[\"scl\"] != SCL_NO_DATA).any(dim=[\"x\", \"y\"]))\n",
    "\n",
    "    # convert bands to actual values\n",
    "    for band in bands: \n",
    "        if band == \"scl\": \n",
    "            continue\n",
    "        data[band].data = data[band].data * SCALE + OFFSET\n",
    "        data[band].data[data[band].data <= 0] = numpy.nan\n",
    "        data[band].rio.write_nodata(numpy.nan, encoded=True, inplace=True);\n",
    "\n",
    "    # Calculate NVDI and NVWI\n",
    "    data[\"ndvi\"] = (data.nir - data.red) / (data.nir + data.red)\n",
    "    data[\"ndwi\"] = (data.green-data.nir)/(data.green+data.nir)\n",
    "    data[\"ndvi\"].rio.write_crs(data[\"ndvi\"].rio.crs, inplace=True); data[\"ndvi\"].rio.write_nodata(numpy.nan, encoded=True, inplace=True);\n",
    "    data[\"ndwi\"].rio.write_crs(data[\"ndvi\"].rio.crs, inplace=True); data[\"ndwi\"].rio.write_nodata(numpy.nan, encoded=True, inplace=True); \n",
    "\n",
    "    # Calculate Kelp\n",
    "    data[\"kelp\"] = (data.nir - data.red) / (data.nir + data.red)\n",
    "    data[\"kelp\"].data[(data[\"ndvi\"].data < thresholds[\"min_ndvi\"]) | (data[\"ndvi\"].data > thresholds[\"max_ndvi\"]) | (data[\"ndwi\"].data > thresholds[\"max_ndwi\"])] = numpy.nan\n",
    "    data[\"kelp\"].data[(data[\"scl\"].data == SCL_CIRRUS) | (data[\"ndvi\"].data == SCL_CLOUD) | (data[\"ndwi\"].data == SCL_DEFECTIVE)] = numpy.nan\n",
    "    data[\"kelp\"] = data[\"kelp\"].rio.clip(land.to_crs(data[\"kelp\"].rio.crs).geometry.values, invert=True)\n",
    "    data[\"kelp\"].rio.write_crs(data[\"kelp\"].rio.crs, inplace=True); data[\"kelp\"].rio.write_nodata(numpy.nan, encoded=True, inplace=True);\n",
    "\n",
    "    # Save each separately\n",
    "    for index in range(len(data[\"kelp\"].time)):\n",
    "        data[\"kelp\"].isel(time=index).rio.to_raster(data_path / \"rasters\" / name / f'kelp_{pandas.to_datetime(data[\"kelp\"].time.data[index]).strftime(\"%Y-%m-%d\")}.tif', compress=\"deflate\")"
   ]
  },
  {
   "cell_type": "code",
   "execution_count": 6,
   "id": "6f7f9e5d-eefe-43df-aaa1-db3ebe59d8a7",
   "metadata": {},
   "outputs": [],
   "source": [
    "files = list(pathlib.Path(data_path / \"rasters\" / name).glob(f\"*.tif\"))"
   ]
  },
  {
   "cell_type": "code",
   "execution_count": 7,
   "id": "10822e48-e706-4e27-9f44-f2e8b681167e",
   "metadata": {},
   "outputs": [],
   "source": [
    "index = 0\n",
    "kelp_display = rioxarray.rioxarray.open_rasterio(files[index], chunks=True).squeeze( \"band\", drop=True)"
   ]
  },
  {
   "cell_type": "code",
   "execution_count": 8,
   "id": "fa770d78-d6c3-4e7b-84bd-d4192efccba5",
   "metadata": {},
   "outputs": [
    {
     "ename": "NameError",
     "evalue": "name 'land' is not defined",
     "output_type": "error",
     "traceback": [
      "\u001b[1;31m---------------------------------------------------------------------------\u001b[0m",
      "\u001b[1;31mNameError\u001b[0m                                 Traceback (most recent call last)",
      "Cell \u001b[1;32mIn[8], line 4\u001b[0m\n\u001b[0;32m      1\u001b[0m fig \u001b[38;5;241m=\u001b[39m branca\u001b[38;5;241m.\u001b[39melement\u001b[38;5;241m.\u001b[39mFigure(width\u001b[38;5;241m=\u001b[39m\u001b[38;5;124m'\u001b[39m\u001b[38;5;124m70\u001b[39m\u001b[38;5;124m%\u001b[39m\u001b[38;5;124m'\u001b[39m, height\u001b[38;5;241m=\u001b[39m\u001b[38;5;124m'\u001b[39m\u001b[38;5;124m50\u001b[39m\u001b[38;5;124m%\u001b[39m\u001b[38;5;124m'\u001b[39m) \u001b[38;5;66;03m# Ensures no extra whitespace below\u001b[39;00m\n\u001b[0;32m      3\u001b[0m m \u001b[38;5;241m=\u001b[39m folium\u001b[38;5;241m.\u001b[39mMap()\n\u001b[1;32m----> 4\u001b[0m \u001b[43mland\u001b[49m\u001b[38;5;241m.\u001b[39mexplore(m\u001b[38;5;241m=\u001b[39mm)\n\u001b[0;32m      6\u001b[0m kelp_display\u001b[38;5;241m.\u001b[39modc\u001b[38;5;241m.\u001b[39madd_to(m, opacity\u001b[38;5;241m=\u001b[39m\u001b[38;5;241m0.75\u001b[39m, cmap\u001b[38;5;241m=\u001b[39m\u001b[38;5;124m\"\u001b[39m\u001b[38;5;124minferno\u001b[39m\u001b[38;5;124m\"\u001b[39m, vmin\u001b[38;5;241m=\u001b[39m\u001b[38;5;241m0\u001b[39m, vmax\u001b[38;5;241m=\u001b[39m\u001b[38;5;241m1\u001b[39m) \u001b[38;5;66;03m# viridis\u001b[39;00m\n\u001b[0;32m      7\u001b[0m \u001b[38;5;66;03m# Bounds - either: geopandas_bounds_to_plot(land), or data.kelp.odc.map_bounds()\u001b[39;00m\n",
      "\u001b[1;31mNameError\u001b[0m: name 'land' is not defined"
     ]
    }
   ],
   "source": [
    "fig = branca.element.Figure(width='70%', height='50%') # Ensures no extra whitespace below\n",
    "\n",
    "m = folium.Map()\n",
    "land.explore(m=m)\n",
    "\n",
    "kelp_display.odc.add_to(m, opacity=0.75, cmap=\"inferno\", vmin=0, vmax=1) # viridis\n",
    "# Bounds - either: geopandas_bounds_to_plot(land), or data.kelp.odc.map_bounds()\n",
    "m.fit_bounds(kelp_display.odc.map_bounds())\n",
    "\n",
    "colormap = branca.colormap.linear.inferno.scale(0, 1)\n",
    "colormap.caption = 'Kelp Index'\n",
    "colormap.add_to(m)\n",
    "\n",
    "display(m)"
   ]
  },
  {
   "cell_type": "code",
   "execution_count": null,
   "id": "2f77356f-fb9f-4055-aaaa-3e6220a00f66",
   "metadata": {},
   "outputs": [],
   "source": []
  }
 ],
 "metadata": {
  "kernelspec": {
   "display_name": "Satellite",
   "language": "python",
   "name": "satellite"
  },
  "language_info": {
   "codemirror_mode": {
    "name": "ipython",
    "version": 3
   },
   "file_extension": ".py",
   "mimetype": "text/x-python",
   "name": "python",
   "nbconvert_exporter": "python",
   "pygments_lexer": "ipython3",
   "version": "3.11.0"
  }
 },
 "nbformat": 4,
 "nbformat_minor": 5
}
