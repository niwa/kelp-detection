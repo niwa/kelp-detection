{
 "cells": [
  {
   "cell_type": "markdown",
   "id": "13a81248-d820-4eca-b661-ff38f209c597",
   "metadata": {},
   "source": [
    "# Constructing API URL\n",
    "* Accessing the [Copernicus Data Space Ecosystem](https://dataspace.copernicus.eu/)\n",
    "* Constructing URL query strings [Requests: passing parameters in URLs](https://requests.readthedocs.io/en/latest/user/quickstart/#passing-parameters-in-urls)"
   ]
  },
  {
   "cell_type": "code",
   "execution_count": 16,
   "id": "5272bfb1-74ec-4bdc-9304-ac18f6345cb6",
   "metadata": {},
   "outputs": [],
   "source": [
    "import requests\n",
    "import urllib\n",
    "import json\n",
    "import pandas\n",
    "import datetime\n",
    "import pathlib\n",
    "import geopandas"
   ]
  },
  {
   "cell_type": "code",
   "execution_count": 2,
   "id": "b151f733-be48-496f-8d94-912fc9242e3e",
   "metadata": {},
   "outputs": [],
   "source": [
    "SCHEME = \"https\"\n",
    "NETLOC_API = \"catalogue.dataspace.copernicus.eu\"\n",
    "ODATA_API = \"odata/v1/Products\"\n",
    "data_url = urllib.parse.urlunparse( (SCHEME, NETLOC_API, ODATA_API, \"\", \"\", \"\", ))"
   ]
  },
  {
   "cell_type": "markdown",
   "id": "7d7c5d00-3355-4934-b2b7-629c5a98789a",
   "metadata": {},
   "source": [
    "## APIs - OData\n",
    "* A Catalogue API - return satellite layers in a time range of location as a data frame\n",
    "* Documentation at [OData API](https://documentation.dataspace.copernicus.eu/APIs/OData.html)\n",
    "* Query made up of options: filter, orderby, top, skip, count, expand\n",
    "  * Can filter by [Attributes for query](https://documentation.dataspace.copernicus.eu/APIs/OData.html#list-of-odata-query-attributes-by-collection) - [SENTINEL-2 attributes](https://catalogue.dataspace.copernicus.eu/odata/v1/Attributes(SENTINEL-2)) e.g. cloud cover\n",
    "  * Can filter by 'Collection/Name' e.g. ‘SENTINEL-3’, ‘SENTINEL-2’, ‘SENTINEL-1’\n",
    "* Download documetnation - [compressed product download](https://documentation.dataspace.copernicus.eu/APIs/OData.html#compressed-product-download)\n",
    "* Other catalogue APIs include STACK API, OpenSearch, Sentinel Hub Catalogue API\n",
    "## APIs - openEO API\n",
    "* A standardised API to access & process datasets in the ecosystem using intuitive programming libraries\n",
    "* Auto-scalled on cloud infrastructure that hosts the data\n",
    "## APIs - On-demand processing\n",
    "* Serverless data computation service that triggers the generation of higher level user products from lower-level products\n",
    "* Uses ESA CFIs and other pre-defined processors\n",
    "* Query API to brows available workflows, submit jobs, review status, retrieve results using we browser\n",
    "## APIS - Sentinel Hub\n",
    "* RESTful API interface for accessing stallite imagry archives\n",
    "* Access of raw staellite data, rendered images, statistical analysis"
   ]
  },
  {
   "cell_type": "markdown",
   "id": "acb8c254-c646-44fc-a6fb-3ad200693347",
   "metadata": {},
   "source": [
    "# Example query - Not Sentinel 2\n",
    "* Not SENTINEL-2"
   ]
  },
  {
   "cell_type": "code",
   "execution_count": 27,
   "id": "573cbd8b-eb8a-4c7a-8583-59dfe6f0ca5e",
   "metadata": {},
   "outputs": [
    {
     "data": {
      "text/plain": [
       "'https://catalogue.dataspace.copernicus.eu/odata/v1/Products?%24filter=not+%28Collection%2FName+eq+%27SENTINEL-2%27%29+and+ContentDate%2FStart+gt+2022-05-03T00%3A00%3A00.000Z+and+ContentDate%2FStart+lt+2022-05-03T00%3A10%3A00.000Z&%24orderby=ContentDate%2FStart&%24top=100'"
      ]
     },
     "execution_count": 27,
     "metadata": {},
     "output_type": "execute_result"
    }
   ],
   "source": [
    "api_parameters = {\n",
    "    \"$filter\": r\"not (Collection/Name eq 'SENTINEL-2') and ContentDate/Start gt 2022-05-03T00:00:00.000Z and ContentDate/Start lt 2022-05-03T00:10:00.000Z\",\n",
    "    \"$orderby\": \"ContentDate/Start\",\n",
    "    \"$top\": 100}\n",
    "response = requests.get(data_url, params=api_parameters)\n",
    "response.url"
   ]
  },
  {
   "cell_type": "code",
   "execution_count": 28,
   "id": "bff93086-ca1a-4ba9-9a0a-5580fb95ba5b",
   "metadata": {},
   "outputs": [],
   "source": [
    "response_json = response.json()\n",
    "values = pandas.DataFrame.from_dict(response_json[\"value\"])"
   ]
  },
  {
   "cell_type": "code",
   "execution_count": 29,
   "id": "65a15429-12b5-4fbf-a403-8353036e8d46",
   "metadata": {},
   "outputs": [
    {
     "data": {
      "text/plain": [
       "'$metadata#Products'"
      ]
     },
     "execution_count": 29,
     "metadata": {},
     "output_type": "execute_result"
    }
   ],
   "source": [
    "response_json['@odata.context'] # '@odata.nextLink'"
   ]
  },
  {
   "cell_type": "code",
   "execution_count": 30,
   "id": "79220f97-bcaf-4f8e-b60c-1c77ce9cfd54",
   "metadata": {},
   "outputs": [
    {
     "data": {
      "text/html": [
       "<div>\n",
       "<style scoped>\n",
       "    .dataframe tbody tr th:only-of-type {\n",
       "        vertical-align: middle;\n",
       "    }\n",
       "\n",
       "    .dataframe tbody tr th {\n",
       "        vertical-align: top;\n",
       "    }\n",
       "\n",
       "    .dataframe thead th {\n",
       "        text-align: right;\n",
       "    }\n",
       "</style>\n",
       "<table border=\"1\" class=\"dataframe\">\n",
       "  <thead>\n",
       "    <tr style=\"text-align: right;\">\n",
       "      <th></th>\n",
       "      <th>@odata.mediaContentType</th>\n",
       "      <th>Id</th>\n",
       "      <th>Name</th>\n",
       "      <th>ContentType</th>\n",
       "      <th>ContentLength</th>\n",
       "      <th>OriginDate</th>\n",
       "      <th>PublicationDate</th>\n",
       "      <th>ModificationDate</th>\n",
       "      <th>Online</th>\n",
       "      <th>EvictionDate</th>\n",
       "      <th>S3Path</th>\n",
       "      <th>Checksum</th>\n",
       "      <th>ContentDate</th>\n",
       "      <th>Footprint</th>\n",
       "      <th>GeoFootprint</th>\n",
       "    </tr>\n",
       "  </thead>\n",
       "  <tbody>\n",
       "    <tr>\n",
       "      <th>0</th>\n",
       "      <td>application/octet-stream</td>\n",
       "      <td>1d42f2d3-2456-485f-a93e-92f08bdd5c51</td>\n",
       "      <td>S1A_OPER_AUX_GNSSRD_POD__20220510T020122_V2022...</td>\n",
       "      <td>application/octet-stream</td>\n",
       "      <td>2663000</td>\n",
       "      <td>2022-05-10T02:30:11.130000Z</td>\n",
       "      <td>2023-10-25T13:45:19.736051Z</td>\n",
       "      <td>2023-11-14T22:50:17.707935Z</td>\n",
       "      <td>True</td>\n",
       "      <td>9999-12-31T23:59:59.999999Z</td>\n",
       "      <td>/eodata/Sentinel-1/AUX/AUX_GNSSRD/2022/05/03/S...</td>\n",
       "      <td>[{'Value': '6a99572d2baaa3c9a83bd851ba3ba70f',...</td>\n",
       "      <td>{'Start': '2022-05-03T00:00:04.000000Z', 'End'...</td>\n",
       "      <td>None</td>\n",
       "      <td>None</td>\n",
       "    </tr>\n",
       "    <tr>\n",
       "      <th>1</th>\n",
       "      <td>application/octet-stream</td>\n",
       "      <td>5c744d5c-c082-4a34-a181-81cde73cd25d</td>\n",
       "      <td>S1B_OPER_AUX_GNSSRD_POD__20220510T023113_V2022...</td>\n",
       "      <td>application/octet-stream</td>\n",
       "      <td>2664746</td>\n",
       "      <td>2022-05-10T03:00:10.749000Z</td>\n",
       "      <td>2023-10-25T13:45:38.892646Z</td>\n",
       "      <td>2023-11-14T22:59:42.253981Z</td>\n",
       "      <td>True</td>\n",
       "      <td>9999-12-31T23:59:59.999999Z</td>\n",
       "      <td>/eodata/Sentinel-1/AUX/AUX_GNSSRD/2022/05/03/S...</td>\n",
       "      <td>[{'Value': 'b07856cd6772060149b449ebd8352ca3',...</td>\n",
       "      <td>{'Start': '2022-05-03T00:00:08.000000Z', 'End'...</td>\n",
       "      <td>None</td>\n",
       "      <td>None</td>\n",
       "    </tr>\n",
       "  </tbody>\n",
       "</table>\n",
       "</div>"
      ],
      "text/plain": [
       "    @odata.mediaContentType                                    Id  \\\n",
       "0  application/octet-stream  1d42f2d3-2456-485f-a93e-92f08bdd5c51   \n",
       "1  application/octet-stream  5c744d5c-c082-4a34-a181-81cde73cd25d   \n",
       "\n",
       "                                                Name  \\\n",
       "0  S1A_OPER_AUX_GNSSRD_POD__20220510T020122_V2022...   \n",
       "1  S1B_OPER_AUX_GNSSRD_POD__20220510T023113_V2022...   \n",
       "\n",
       "                ContentType  ContentLength                   OriginDate  \\\n",
       "0  application/octet-stream        2663000  2022-05-10T02:30:11.130000Z   \n",
       "1  application/octet-stream        2664746  2022-05-10T03:00:10.749000Z   \n",
       "\n",
       "               PublicationDate             ModificationDate  Online  \\\n",
       "0  2023-10-25T13:45:19.736051Z  2023-11-14T22:50:17.707935Z    True   \n",
       "1  2023-10-25T13:45:38.892646Z  2023-11-14T22:59:42.253981Z    True   \n",
       "\n",
       "                  EvictionDate  \\\n",
       "0  9999-12-31T23:59:59.999999Z   \n",
       "1  9999-12-31T23:59:59.999999Z   \n",
       "\n",
       "                                              S3Path  \\\n",
       "0  /eodata/Sentinel-1/AUX/AUX_GNSSRD/2022/05/03/S...   \n",
       "1  /eodata/Sentinel-1/AUX/AUX_GNSSRD/2022/05/03/S...   \n",
       "\n",
       "                                            Checksum  \\\n",
       "0  [{'Value': '6a99572d2baaa3c9a83bd851ba3ba70f',...   \n",
       "1  [{'Value': 'b07856cd6772060149b449ebd8352ca3',...   \n",
       "\n",
       "                                         ContentDate Footprint GeoFootprint  \n",
       "0  {'Start': '2022-05-03T00:00:04.000000Z', 'End'...      None         None  \n",
       "1  {'Start': '2022-05-03T00:00:08.000000Z', 'End'...      None         None  "
      ]
     },
     "execution_count": 30,
     "metadata": {},
     "output_type": "execute_result"
    }
   ],
   "source": [
    "values.head(2)"
   ]
  },
  {
   "cell_type": "markdown",
   "id": "4e2b5c17-88dc-4921-ab4f-d3a65838bae7",
   "metadata": {},
   "source": [
    "# Example Query - select Sentinel 2"
   ]
  },
  {
   "cell_type": "code",
   "execution_count": 31,
   "id": "3f547f2b-4d08-42ee-b5c3-ed7af5e42819",
   "metadata": {},
   "outputs": [
    {
     "data": {
      "text/plain": [
       "'https://catalogue.dataspace.copernicus.eu/odata/v1/Products?%24filter=%28Collection%2FName+eq+%27SENTINEL-2%27%29+and+ContentDate%2FStart+gt+2022-05-03T00%3A00%3A00.000Z+and+ContentDate%2FStart+lt+2022-05-03T00%3A10%3A00.000Z&%24orderby=ContentDate%2FStart&%24top=100'"
      ]
     },
     "execution_count": 31,
     "metadata": {},
     "output_type": "execute_result"
    }
   ],
   "source": [
    "api_parameters = {\n",
    "    \"$filter\": r\"(Collection/Name eq 'SENTINEL-2') and ContentDate/Start gt 2022-05-03T00:00:00.000Z and ContentDate/Start lt 2022-05-03T00:10:00.000Z\",\n",
    "    \"$orderby\": \"ContentDate/Start\",\n",
    "    \"$top\": 100}\n",
    "response = requests.get(data_url, params=api_parameters)\n",
    "response.url"
   ]
  },
  {
   "cell_type": "code",
   "execution_count": 32,
   "id": "621c377e-ff65-46f3-8117-0754540221b2",
   "metadata": {},
   "outputs": [
    {
     "data": {
      "text/html": [
       "<div>\n",
       "<style scoped>\n",
       "    .dataframe tbody tr th:only-of-type {\n",
       "        vertical-align: middle;\n",
       "    }\n",
       "\n",
       "    .dataframe tbody tr th {\n",
       "        vertical-align: top;\n",
       "    }\n",
       "\n",
       "    .dataframe thead th {\n",
       "        text-align: right;\n",
       "    }\n",
       "</style>\n",
       "<table border=\"1\" class=\"dataframe\">\n",
       "  <thead>\n",
       "    <tr style=\"text-align: right;\">\n",
       "      <th></th>\n",
       "      <th>@odata.mediaContentType</th>\n",
       "      <th>Id</th>\n",
       "      <th>Name</th>\n",
       "      <th>ContentType</th>\n",
       "      <th>ContentLength</th>\n",
       "      <th>OriginDate</th>\n",
       "      <th>PublicationDate</th>\n",
       "      <th>ModificationDate</th>\n",
       "      <th>Online</th>\n",
       "      <th>EvictionDate</th>\n",
       "      <th>S3Path</th>\n",
       "      <th>Checksum</th>\n",
       "      <th>ContentDate</th>\n",
       "      <th>Footprint</th>\n",
       "      <th>GeoFootprint</th>\n",
       "    </tr>\n",
       "  </thead>\n",
       "  <tbody>\n",
       "    <tr>\n",
       "      <th>0</th>\n",
       "      <td>application/octet-stream</td>\n",
       "      <td>b2ac733d-efa4-49e9-9edc-fb37e2a7f938</td>\n",
       "      <td>S2B_OPER_AUX_GNSSRD_POD__20220510T031816_V2022...</td>\n",
       "      <td>application/octet-stream</td>\n",
       "      <td>2650202</td>\n",
       "      <td>2022-05-10T03:32:10.993000Z</td>\n",
       "      <td>2023-10-25T13:45:42.482692Z</td>\n",
       "      <td>2023-11-29T14:03:28.169944Z</td>\n",
       "      <td>True</td>\n",
       "      <td>9999-12-31T23:59:59.999999Z</td>\n",
       "      <td>/eodata/Sentinel-2/AUX/AUX_GNSSRD/2022/05/03/S...</td>\n",
       "      <td>[{'Value': '5d7e3d41cedc5331584cdc6b92692b6c',...</td>\n",
       "      <td>{'Start': '2022-05-03T00:00:04.000000Z', 'End'...</td>\n",
       "      <td>None</td>\n",
       "      <td>None</td>\n",
       "    </tr>\n",
       "    <tr>\n",
       "      <th>1</th>\n",
       "      <td>application/octet-stream</td>\n",
       "      <td>a449f701-d29a-4ce9-b838-33061ee1d573</td>\n",
       "      <td>S2A_OPER_AUX_GNSSRD_POD__20220510T030151_V2022...</td>\n",
       "      <td>application/octet-stream</td>\n",
       "      <td>2281403</td>\n",
       "      <td>2022-05-10T03:32:11.048000Z</td>\n",
       "      <td>2023-10-25T13:45:41.052411Z</td>\n",
       "      <td>2023-11-29T14:03:27.695824Z</td>\n",
       "      <td>True</td>\n",
       "      <td>9999-12-31T23:59:59.999999Z</td>\n",
       "      <td>/eodata/Sentinel-2/AUX/AUX_GNSSRD/2022/05/03/S...</td>\n",
       "      <td>[{'Value': '56a1a8b66c90102c86511dfa991babc3',...</td>\n",
       "      <td>{'Start': '2022-05-03T00:00:07.000000Z', 'End'...</td>\n",
       "      <td>None</td>\n",
       "      <td>None</td>\n",
       "    </tr>\n",
       "  </tbody>\n",
       "</table>\n",
       "</div>"
      ],
      "text/plain": [
       "    @odata.mediaContentType                                    Id  \\\n",
       "0  application/octet-stream  b2ac733d-efa4-49e9-9edc-fb37e2a7f938   \n",
       "1  application/octet-stream  a449f701-d29a-4ce9-b838-33061ee1d573   \n",
       "\n",
       "                                                Name  \\\n",
       "0  S2B_OPER_AUX_GNSSRD_POD__20220510T031816_V2022...   \n",
       "1  S2A_OPER_AUX_GNSSRD_POD__20220510T030151_V2022...   \n",
       "\n",
       "                ContentType  ContentLength                   OriginDate  \\\n",
       "0  application/octet-stream        2650202  2022-05-10T03:32:10.993000Z   \n",
       "1  application/octet-stream        2281403  2022-05-10T03:32:11.048000Z   \n",
       "\n",
       "               PublicationDate             ModificationDate  Online  \\\n",
       "0  2023-10-25T13:45:42.482692Z  2023-11-29T14:03:28.169944Z    True   \n",
       "1  2023-10-25T13:45:41.052411Z  2023-11-29T14:03:27.695824Z    True   \n",
       "\n",
       "                  EvictionDate  \\\n",
       "0  9999-12-31T23:59:59.999999Z   \n",
       "1  9999-12-31T23:59:59.999999Z   \n",
       "\n",
       "                                              S3Path  \\\n",
       "0  /eodata/Sentinel-2/AUX/AUX_GNSSRD/2022/05/03/S...   \n",
       "1  /eodata/Sentinel-2/AUX/AUX_GNSSRD/2022/05/03/S...   \n",
       "\n",
       "                                            Checksum  \\\n",
       "0  [{'Value': '5d7e3d41cedc5331584cdc6b92692b6c',...   \n",
       "1  [{'Value': '56a1a8b66c90102c86511dfa991babc3',...   \n",
       "\n",
       "                                         ContentDate Footprint GeoFootprint  \n",
       "0  {'Start': '2022-05-03T00:00:04.000000Z', 'End'...      None         None  \n",
       "1  {'Start': '2022-05-03T00:00:07.000000Z', 'End'...      None         None  "
      ]
     },
     "execution_count": 32,
     "metadata": {},
     "output_type": "execute_result"
    }
   ],
   "source": [
    "response_json = response.json()\n",
    "values = pandas.DataFrame.from_dict(response_json[\"value\"])\n",
    "values.head(2)"
   ]
  },
  {
   "cell_type": "markdown",
   "id": "3b13355b-dfc9-4bc0-b506-39ace348891b",
   "metadata": {},
   "source": [
    "## Define date range"
   ]
  },
  {
   "cell_type": "code",
   "execution_count": 54,
   "id": "0a9c61ef-5fe3-47b2-9866-d09caa1f44ea",
   "metadata": {},
   "outputs": [],
   "source": [
    "start_date = datetime.datetime(year=2022, month=5, day=3)\n",
    "time_range = datetime.timedelta(hours=10)\n",
    "start_string = start_date.strftime(\"%Y-%m-%dT%X.%fZ\")\n",
    "end_string = (start_date + time_range).strftime(\"%Y-%m-%dT%X.%fZ\")\n",
    "data_collection = \"SENTINEL-2\""
   ]
  },
  {
   "cell_type": "code",
   "execution_count": 55,
   "id": "06ac23d2-7f0e-4541-b68f-9d53cc375b85",
   "metadata": {},
   "outputs": [
    {
     "data": {
      "text/plain": [
       "'https://catalogue.dataspace.copernicus.eu/odata/v1/Products?%24filter=%28Collection%2FName+eq+%27SENTINEL-2%27%29+and+ContentDate%2FStart+gt+2022-05-03T00%3A00%3A00.000000Z+and+ContentDate%2FStart+lt+2022-05-03T10%3A00%3A00.000000Z&%24orderby=ContentDate%2FStart&%24top=100'"
      ]
     },
     "execution_count": 55,
     "metadata": {},
     "output_type": "execute_result"
    }
   ],
   "source": [
    "api_parameters = {\n",
    "    \"$filter\": f\"(Collection/Name eq '{data_collection}') and ContentDate/Start gt {start_string} and ContentDate/Start lt {end_string}\",\n",
    "    \"$orderby\": \"ContentDate/Start\",\n",
    "    \"$top\": 100}\n",
    "response = requests.get(data_url, params=api_parameters)\n",
    "response.url"
   ]
  },
  {
   "cell_type": "code",
   "execution_count": 56,
   "id": "25c508cc-596d-4182-8ee2-5661b9103a58",
   "metadata": {},
   "outputs": [
    {
     "data": {
      "text/html": [
       "<div>\n",
       "<style scoped>\n",
       "    .dataframe tbody tr th:only-of-type {\n",
       "        vertical-align: middle;\n",
       "    }\n",
       "\n",
       "    .dataframe tbody tr th {\n",
       "        vertical-align: top;\n",
       "    }\n",
       "\n",
       "    .dataframe thead th {\n",
       "        text-align: right;\n",
       "    }\n",
       "</style>\n",
       "<table border=\"1\" class=\"dataframe\">\n",
       "  <thead>\n",
       "    <tr style=\"text-align: right;\">\n",
       "      <th></th>\n",
       "      <th>@odata.mediaContentType</th>\n",
       "      <th>Id</th>\n",
       "      <th>Name</th>\n",
       "      <th>ContentType</th>\n",
       "      <th>ContentLength</th>\n",
       "      <th>OriginDate</th>\n",
       "      <th>PublicationDate</th>\n",
       "      <th>ModificationDate</th>\n",
       "      <th>Online</th>\n",
       "      <th>EvictionDate</th>\n",
       "      <th>S3Path</th>\n",
       "      <th>Checksum</th>\n",
       "      <th>ContentDate</th>\n",
       "      <th>Footprint</th>\n",
       "      <th>GeoFootprint</th>\n",
       "    </tr>\n",
       "  </thead>\n",
       "  <tbody>\n",
       "    <tr>\n",
       "      <th>0</th>\n",
       "      <td>application/octet-stream</td>\n",
       "      <td>b2ac733d-efa4-49e9-9edc-fb37e2a7f938</td>\n",
       "      <td>S2B_OPER_AUX_GNSSRD_POD__20220510T031816_V2022...</td>\n",
       "      <td>application/octet-stream</td>\n",
       "      <td>2650202</td>\n",
       "      <td>2022-05-10T03:32:10.993000Z</td>\n",
       "      <td>2023-10-25T13:45:42.482692Z</td>\n",
       "      <td>2023-11-29T14:03:28.169944Z</td>\n",
       "      <td>True</td>\n",
       "      <td>9999-12-31T23:59:59.999999Z</td>\n",
       "      <td>/eodata/Sentinel-2/AUX/AUX_GNSSRD/2022/05/03/S...</td>\n",
       "      <td>[{'Value': '5d7e3d41cedc5331584cdc6b92692b6c',...</td>\n",
       "      <td>{'Start': '2022-05-03T00:00:04.000000Z', 'End'...</td>\n",
       "      <td>None</td>\n",
       "      <td>None</td>\n",
       "    </tr>\n",
       "    <tr>\n",
       "      <th>1</th>\n",
       "      <td>application/octet-stream</td>\n",
       "      <td>a449f701-d29a-4ce9-b838-33061ee1d573</td>\n",
       "      <td>S2A_OPER_AUX_GNSSRD_POD__20220510T030151_V2022...</td>\n",
       "      <td>application/octet-stream</td>\n",
       "      <td>2281403</td>\n",
       "      <td>2022-05-10T03:32:11.048000Z</td>\n",
       "      <td>2023-10-25T13:45:41.052411Z</td>\n",
       "      <td>2023-11-29T14:03:27.695824Z</td>\n",
       "      <td>True</td>\n",
       "      <td>9999-12-31T23:59:59.999999Z</td>\n",
       "      <td>/eodata/Sentinel-2/AUX/AUX_GNSSRD/2022/05/03/S...</td>\n",
       "      <td>[{'Value': '56a1a8b66c90102c86511dfa991babc3',...</td>\n",
       "      <td>{'Start': '2022-05-03T00:00:07.000000Z', 'End'...</td>\n",
       "      <td>None</td>\n",
       "      <td>None</td>\n",
       "    </tr>\n",
       "  </tbody>\n",
       "</table>\n",
       "</div>"
      ],
      "text/plain": [
       "    @odata.mediaContentType                                    Id  \\\n",
       "0  application/octet-stream  b2ac733d-efa4-49e9-9edc-fb37e2a7f938   \n",
       "1  application/octet-stream  a449f701-d29a-4ce9-b838-33061ee1d573   \n",
       "\n",
       "                                                Name  \\\n",
       "0  S2B_OPER_AUX_GNSSRD_POD__20220510T031816_V2022...   \n",
       "1  S2A_OPER_AUX_GNSSRD_POD__20220510T030151_V2022...   \n",
       "\n",
       "                ContentType  ContentLength                   OriginDate  \\\n",
       "0  application/octet-stream        2650202  2022-05-10T03:32:10.993000Z   \n",
       "1  application/octet-stream        2281403  2022-05-10T03:32:11.048000Z   \n",
       "\n",
       "               PublicationDate             ModificationDate  Online  \\\n",
       "0  2023-10-25T13:45:42.482692Z  2023-11-29T14:03:28.169944Z    True   \n",
       "1  2023-10-25T13:45:41.052411Z  2023-11-29T14:03:27.695824Z    True   \n",
       "\n",
       "                  EvictionDate  \\\n",
       "0  9999-12-31T23:59:59.999999Z   \n",
       "1  9999-12-31T23:59:59.999999Z   \n",
       "\n",
       "                                              S3Path  \\\n",
       "0  /eodata/Sentinel-2/AUX/AUX_GNSSRD/2022/05/03/S...   \n",
       "1  /eodata/Sentinel-2/AUX/AUX_GNSSRD/2022/05/03/S...   \n",
       "\n",
       "                                            Checksum  \\\n",
       "0  [{'Value': '5d7e3d41cedc5331584cdc6b92692b6c',...   \n",
       "1  [{'Value': '56a1a8b66c90102c86511dfa991babc3',...   \n",
       "\n",
       "                                         ContentDate Footprint GeoFootprint  \n",
       "0  {'Start': '2022-05-03T00:00:04.000000Z', 'End'...      None         None  \n",
       "1  {'Start': '2022-05-03T00:00:07.000000Z', 'End'...      None         None  "
      ]
     },
     "execution_count": 56,
     "metadata": {},
     "output_type": "execute_result"
    }
   ],
   "source": [
    "response_json = response.json()\n",
    "values = pandas.DataFrame.from_dict(response_json[\"value\"])\n",
    "values.head(2)"
   ]
  },
  {
   "cell_type": "markdown",
   "id": "98e4fe07-1b6b-472f-86a3-35848f1e6fd4",
   "metadata": {},
   "source": [
    "# Example Query - within location"
   ]
  },
  {
   "cell_type": "code",
   "execution_count": 86,
   "id": "1e0a6351-65d8-4166-8f21-0b8d8db0d274",
   "metadata": {},
   "outputs": [],
   "source": [
    "start_date = datetime.datetime(year=2022, month=5, day=3)\n",
    "time_range = datetime.timedelta(days=10)\n",
    "start_string = start_date.strftime(\"%Y-%m-%dT%X.%fZ\")\n",
    "end_string = (start_date + time_range).strftime(\"%Y-%m-%dT%X.%fZ\")\n",
    "data_collection = \"SENTINEL-2\""
   ]
  },
  {
   "cell_type": "code",
   "execution_count": 87,
   "id": "2c58661b-9007-4bf8-8d1a-f31a0ae6820b",
   "metadata": {},
   "outputs": [
    {
     "data": {
      "text/plain": [
       "'POLYGON ((171.149123 -46.732637, 171.207704 -44.937886, 169.380431 -44.894556, 169.262374 -46.686525, 171.149123 -46.732637))'"
      ]
     },
     "execution_count": 87,
     "metadata": {},
     "output_type": "execute_result"
    }
   ],
   "source": [
    "data_path = pathlib.Path.cwd() / \"..\" / \"data\"\n",
    "boundary = geopandas.read_file(data_path / \"vectors\" / f\"test.geojson\")\n",
    "boundary.to_wkt().iloc[0].geometry"
   ]
  },
  {
   "cell_type": "code",
   "execution_count": 88,
   "id": "6854cac7-91aa-473e-9856-0fa4ce6e6326",
   "metadata": {},
   "outputs": [
    {
     "data": {
      "text/plain": [
       "'https://catalogue.dataspace.copernicus.eu/odata/v1/Products?%24filter=%28Collection%2FName+eq+%27SENTINEL-2%27%29+and+OData.CSC.Intersects%28area%3Dgeography%27SRID%3D4326%3BPOLYGON+%28%28171.149123+-46.732637%2C+171.207704+-44.937886%2C+169.380431+-44.894556%2C+169.262374+-46.686525%2C+171.149123+-46.732637%29%29%27%29+and+ContentDate%2FStart+gt+2022-05-03T00%3A00%3A00.000000Z+and+ContentDate%2FStart+lt+2022-05-13T00%3A00%3A00.000000Z&%24orderby=ContentDate%2FStart&%24top=20'"
      ]
     },
     "execution_count": 88,
     "metadata": {},
     "output_type": "execute_result"
    }
   ],
   "source": [
    "api_parameters = {\n",
    "    \"$filter\": f\"(Collection/Name eq '{data_collection}') \"\n",
    "               f\"and OData.CSC.Intersects(area=geography'SRID=4326;{boundary.to_wkt().iloc[0].geometry}') \"\n",
    "               f\"and ContentDate/Start gt {start_string} \"\n",
    "               f\"and ContentDate/Start lt {end_string}\",\n",
    "    \"$orderby\": \"ContentDate/Start\",\n",
    "    \"$top\": 20}\n",
    "response = requests.get(data_url, params=api_parameters)\n",
    "response.url"
   ]
  },
  {
   "cell_type": "code",
   "execution_count": 89,
   "id": "b90e3531-6869-4b0f-be42-4c2fe90561d3",
   "metadata": {},
   "outputs": [
    {
     "data": {
      "text/html": [
       "<div>\n",
       "<style scoped>\n",
       "    .dataframe tbody tr th:only-of-type {\n",
       "        vertical-align: middle;\n",
       "    }\n",
       "\n",
       "    .dataframe tbody tr th {\n",
       "        vertical-align: top;\n",
       "    }\n",
       "\n",
       "    .dataframe thead th {\n",
       "        text-align: right;\n",
       "    }\n",
       "</style>\n",
       "<table border=\"1\" class=\"dataframe\">\n",
       "  <thead>\n",
       "    <tr style=\"text-align: right;\">\n",
       "      <th></th>\n",
       "      <th>@odata.mediaContentType</th>\n",
       "      <th>Id</th>\n",
       "      <th>Name</th>\n",
       "      <th>ContentType</th>\n",
       "      <th>ContentLength</th>\n",
       "      <th>OriginDate</th>\n",
       "      <th>PublicationDate</th>\n",
       "      <th>ModificationDate</th>\n",
       "      <th>Online</th>\n",
       "      <th>EvictionDate</th>\n",
       "      <th>S3Path</th>\n",
       "      <th>Checksum</th>\n",
       "      <th>ContentDate</th>\n",
       "      <th>Footprint</th>\n",
       "      <th>GeoFootprint</th>\n",
       "    </tr>\n",
       "  </thead>\n",
       "  <tbody>\n",
       "    <tr>\n",
       "      <th>0</th>\n",
       "      <td>application/octet-stream</td>\n",
       "      <td>1cb6b808-7778-5ba4-980c-77709a495e32</td>\n",
       "      <td>S2B_MSIL2A_20220503T222539_N0400_R029_T59GML_2...</td>\n",
       "      <td>application/octet-stream</td>\n",
       "      <td>0</td>\n",
       "      <td>2022-05-04T05:54:34.427000Z</td>\n",
       "      <td>2022-05-04T06:00:21.338385Z</td>\n",
       "      <td>2022-05-04T06:00:21.338385Z</td>\n",
       "      <td>True</td>\n",
       "      <td>9999-12-31T23:59:59.999999Z</td>\n",
       "      <td>/eodata/Sentinel-2/MSI/L2A/2022/05/03/S2B_MSIL...</td>\n",
       "      <td>[]</td>\n",
       "      <td>{'Start': '2022-05-03T22:25:39.024000Z', 'End'...</td>\n",
       "      <td>geography'SRID=4326;POLYGON ((169.72822247963 ...</td>\n",
       "      <td>{'type': 'Polygon', 'coordinates': [[[169.7282...</td>\n",
       "    </tr>\n",
       "    <tr>\n",
       "      <th>1</th>\n",
       "      <td>application/octet-stream</td>\n",
       "      <td>27c46ab3-7424-5e7a-8988-c0c41f8a6c69</td>\n",
       "      <td>S2B_MSIL2A_20220503T222539_N0400_R029_T59GMJ_2...</td>\n",
       "      <td>application/octet-stream</td>\n",
       "      <td>0</td>\n",
       "      <td>2022-05-04T05:12:14.346000Z</td>\n",
       "      <td>2022-05-04T05:16:55.150653Z</td>\n",
       "      <td>2022-05-04T05:16:55.150653Z</td>\n",
       "      <td>True</td>\n",
       "      <td>9999-12-31T23:59:59.999999Z</td>\n",
       "      <td>/eodata/Sentinel-2/MSI/L2A/2022/05/03/S2B_MSIL...</td>\n",
       "      <td>[]</td>\n",
       "      <td>{'Start': '2022-05-03T22:25:39.024000Z', 'End'...</td>\n",
       "      <td>geography'SRID=4326;POLYGON ((169.70695108472 ...</td>\n",
       "      <td>{'type': 'Polygon', 'coordinates': [[[169.7069...</td>\n",
       "    </tr>\n",
       "  </tbody>\n",
       "</table>\n",
       "</div>"
      ],
      "text/plain": [
       "    @odata.mediaContentType                                    Id  \\\n",
       "0  application/octet-stream  1cb6b808-7778-5ba4-980c-77709a495e32   \n",
       "1  application/octet-stream  27c46ab3-7424-5e7a-8988-c0c41f8a6c69   \n",
       "\n",
       "                                                Name  \\\n",
       "0  S2B_MSIL2A_20220503T222539_N0400_R029_T59GML_2...   \n",
       "1  S2B_MSIL2A_20220503T222539_N0400_R029_T59GMJ_2...   \n",
       "\n",
       "                ContentType  ContentLength                   OriginDate  \\\n",
       "0  application/octet-stream              0  2022-05-04T05:54:34.427000Z   \n",
       "1  application/octet-stream              0  2022-05-04T05:12:14.346000Z   \n",
       "\n",
       "               PublicationDate             ModificationDate  Online  \\\n",
       "0  2022-05-04T06:00:21.338385Z  2022-05-04T06:00:21.338385Z    True   \n",
       "1  2022-05-04T05:16:55.150653Z  2022-05-04T05:16:55.150653Z    True   \n",
       "\n",
       "                  EvictionDate  \\\n",
       "0  9999-12-31T23:59:59.999999Z   \n",
       "1  9999-12-31T23:59:59.999999Z   \n",
       "\n",
       "                                              S3Path Checksum  \\\n",
       "0  /eodata/Sentinel-2/MSI/L2A/2022/05/03/S2B_MSIL...       []   \n",
       "1  /eodata/Sentinel-2/MSI/L2A/2022/05/03/S2B_MSIL...       []   \n",
       "\n",
       "                                         ContentDate  \\\n",
       "0  {'Start': '2022-05-03T22:25:39.024000Z', 'End'...   \n",
       "1  {'Start': '2022-05-03T22:25:39.024000Z', 'End'...   \n",
       "\n",
       "                                           Footprint  \\\n",
       "0  geography'SRID=4326;POLYGON ((169.72822247963 ...   \n",
       "1  geography'SRID=4326;POLYGON ((169.70695108472 ...   \n",
       "\n",
       "                                        GeoFootprint  \n",
       "0  {'type': 'Polygon', 'coordinates': [[[169.7282...  \n",
       "1  {'type': 'Polygon', 'coordinates': [[[169.7069...  "
      ]
     },
     "execution_count": 89,
     "metadata": {},
     "output_type": "execute_result"
    }
   ],
   "source": [
    "response_json = response.json()\n",
    "values = pandas.DataFrame.from_dict(response_json[\"value\"])\n",
    "values.head(2)"
   ]
  },
  {
   "cell_type": "code",
   "execution_count": 90,
   "id": "7085a3ac-cc3f-49d5-8a78-610f4e543301",
   "metadata": {},
   "outputs": [
    {
     "data": {
      "text/plain": [
       "20"
      ]
     },
     "execution_count": 90,
     "metadata": {},
     "output_type": "execute_result"
    }
   ],
   "source": [
    "len(values)"
   ]
  },
  {
   "cell_type": "markdown",
   "id": "b9015f53-c196-4b04-9b09-6a418e8a32ef",
   "metadata": {},
   "source": [
    "# Example Query - cloudCover"
   ]
  },
  {
   "cell_type": "code",
   "execution_count": 77,
   "id": "ab13b2b6-3ebb-4ba9-99d5-83ffbd9aa9f7",
   "metadata": {},
   "outputs": [],
   "source": [
    "start_date = datetime.datetime(year=2022, month=5, day=3)\n",
    "time_range = datetime.timedelta(days=10)\n",
    "start_string = start_date.strftime(\"%Y-%m-%dT%X.%fZ\")\n",
    "end_string = (start_date + time_range).strftime(\"%Y-%m-%dT%X.%fZ\")\n",
    "data_collection = \"SENTINEL-2\"\n",
    "cloud_cover = 30"
   ]
  },
  {
   "cell_type": "code",
   "execution_count": 78,
   "id": "62b8f07a-04bf-4d25-8c7c-3faf7be20f59",
   "metadata": {},
   "outputs": [
    {
     "data": {
      "text/plain": [
       "'POLYGON ((171.149123 -46.732637, 171.207704 -44.937886, 169.380431 -44.894556, 169.262374 -46.686525, 171.149123 -46.732637))'"
      ]
     },
     "execution_count": 78,
     "metadata": {},
     "output_type": "execute_result"
    }
   ],
   "source": [
    "data_path = pathlib.Path.cwd() / \"..\" / \"data\"\n",
    "boundary = geopandas.read_file(data_path / \"vectors\" / f\"test.geojson\")\n",
    "boundary.to_wkt().iloc[0].geometry"
   ]
  },
  {
   "cell_type": "code",
   "execution_count": 79,
   "id": "c8b1dd94-bc48-4363-ab27-110a5de31897",
   "metadata": {},
   "outputs": [
    {
     "data": {
      "text/plain": [
       "'https://catalogue.dataspace.copernicus.eu/odata/v1/Products?%24filter=%28Collection%2FName+eq+%27SENTINEL-2%27%29+and+OData.CSC.Intersects%28area%3Dgeography%27SRID%3D4326%3BPOLYGON+%28%28171.149123+-46.732637%2C+171.207704+-44.937886%2C+169.380431+-44.894556%2C+169.262374+-46.686525%2C+171.149123+-46.732637%29%29%27%29+and+Attributes%2FOData.CSC.DoubleAttribute%2Fany%28att%3Aatt%2FName+eq+%27cloudCover%27+and+att%2FOData.CSC.DoubleAttribute%2FValue+le+30%29+and+ContentDate%2FStart+gt+2022-05-03T00%3A00%3A00.000000Z+and+ContentDate%2FStart+lt+2022-05-13T00%3A00%3A00.000000Z&%24orderby=ContentDate%2FStart&%24top=20'"
      ]
     },
     "execution_count": 79,
     "metadata": {},
     "output_type": "execute_result"
    }
   ],
   "source": [
    "api_parameters = {\n",
    "    \"$filter\": f\"(Collection/Name eq '{data_collection}') \"\n",
    "               f\"and OData.CSC.Intersects(area=geography'SRID=4326;{boundary.to_wkt().iloc[0].geometry}') \"\n",
    "               f\"and Attributes/OData.CSC.DoubleAttribute/any(att:att/Name eq 'cloudCover' and att/OData.CSC.DoubleAttribute/Value le {cloud_cover}) \"\n",
    "               f\"and ContentDate/Start gt {start_string} \"\n",
    "               f\"and ContentDate/Start lt {end_string}\",\n",
    "    \"$orderby\": \"ContentDate/Start\",\n",
    "    \"$top\": 20}\n",
    "response = requests.get(data_url, params=api_parameters)\n",
    "response.url"
   ]
  },
  {
   "cell_type": "code",
   "execution_count": 84,
   "id": "c2f831e3-95ae-4d6c-ab1d-9f8b60343e60",
   "metadata": {},
   "outputs": [
    {
     "data": {
      "text/html": [
       "<div>\n",
       "<style scoped>\n",
       "    .dataframe tbody tr th:only-of-type {\n",
       "        vertical-align: middle;\n",
       "    }\n",
       "\n",
       "    .dataframe tbody tr th {\n",
       "        vertical-align: top;\n",
       "    }\n",
       "\n",
       "    .dataframe thead th {\n",
       "        text-align: right;\n",
       "    }\n",
       "</style>\n",
       "<table border=\"1\" class=\"dataframe\">\n",
       "  <thead>\n",
       "    <tr style=\"text-align: right;\">\n",
       "      <th></th>\n",
       "      <th>@odata.mediaContentType</th>\n",
       "      <th>Id</th>\n",
       "      <th>Name</th>\n",
       "      <th>ContentType</th>\n",
       "      <th>ContentLength</th>\n",
       "      <th>OriginDate</th>\n",
       "      <th>PublicationDate</th>\n",
       "      <th>ModificationDate</th>\n",
       "      <th>Online</th>\n",
       "      <th>EvictionDate</th>\n",
       "      <th>S3Path</th>\n",
       "      <th>Checksum</th>\n",
       "      <th>ContentDate</th>\n",
       "      <th>Footprint</th>\n",
       "      <th>GeoFootprint</th>\n",
       "    </tr>\n",
       "  </thead>\n",
       "  <tbody>\n",
       "    <tr>\n",
       "      <th>0</th>\n",
       "      <td>application/octet-stream</td>\n",
       "      <td>1cb6b808-7778-5ba4-980c-77709a495e32</td>\n",
       "      <td>S2B_MSIL2A_20220503T222539_N0400_R029_T59GML_2...</td>\n",
       "      <td>application/octet-stream</td>\n",
       "      <td>0</td>\n",
       "      <td>2022-05-04T05:54:34.427000Z</td>\n",
       "      <td>2022-05-04T06:00:21.338385Z</td>\n",
       "      <td>2022-05-04T06:00:21.338385Z</td>\n",
       "      <td>True</td>\n",
       "      <td>9999-12-31T23:59:59.999999Z</td>\n",
       "      <td>/eodata/Sentinel-2/MSI/L2A/2022/05/03/S2B_MSIL...</td>\n",
       "      <td>[]</td>\n",
       "      <td>{'Start': '2022-05-03T22:25:39.024000Z', 'End'...</td>\n",
       "      <td>geography'SRID=4326;POLYGON ((169.72822247963 ...</td>\n",
       "      <td>{'type': 'Polygon', 'coordinates': [[[169.7282...</td>\n",
       "    </tr>\n",
       "    <tr>\n",
       "      <th>1</th>\n",
       "      <td>application/octet-stream</td>\n",
       "      <td>27c46ab3-7424-5e7a-8988-c0c41f8a6c69</td>\n",
       "      <td>S2B_MSIL2A_20220503T222539_N0400_R029_T59GMJ_2...</td>\n",
       "      <td>application/octet-stream</td>\n",
       "      <td>0</td>\n",
       "      <td>2022-05-04T05:12:14.346000Z</td>\n",
       "      <td>2022-05-04T05:16:55.150653Z</td>\n",
       "      <td>2022-05-04T05:16:55.150653Z</td>\n",
       "      <td>True</td>\n",
       "      <td>9999-12-31T23:59:59.999999Z</td>\n",
       "      <td>/eodata/Sentinel-2/MSI/L2A/2022/05/03/S2B_MSIL...</td>\n",
       "      <td>[]</td>\n",
       "      <td>{'Start': '2022-05-03T22:25:39.024000Z', 'End'...</td>\n",
       "      <td>geography'SRID=4326;POLYGON ((169.70695108472 ...</td>\n",
       "      <td>{'type': 'Polygon', 'coordinates': [[[169.7069...</td>\n",
       "    </tr>\n",
       "  </tbody>\n",
       "</table>\n",
       "</div>"
      ],
      "text/plain": [
       "    @odata.mediaContentType                                    Id  \\\n",
       "0  application/octet-stream  1cb6b808-7778-5ba4-980c-77709a495e32   \n",
       "1  application/octet-stream  27c46ab3-7424-5e7a-8988-c0c41f8a6c69   \n",
       "\n",
       "                                                Name  \\\n",
       "0  S2B_MSIL2A_20220503T222539_N0400_R029_T59GML_2...   \n",
       "1  S2B_MSIL2A_20220503T222539_N0400_R029_T59GMJ_2...   \n",
       "\n",
       "                ContentType  ContentLength                   OriginDate  \\\n",
       "0  application/octet-stream              0  2022-05-04T05:54:34.427000Z   \n",
       "1  application/octet-stream              0  2022-05-04T05:12:14.346000Z   \n",
       "\n",
       "               PublicationDate             ModificationDate  Online  \\\n",
       "0  2022-05-04T06:00:21.338385Z  2022-05-04T06:00:21.338385Z    True   \n",
       "1  2022-05-04T05:16:55.150653Z  2022-05-04T05:16:55.150653Z    True   \n",
       "\n",
       "                  EvictionDate  \\\n",
       "0  9999-12-31T23:59:59.999999Z   \n",
       "1  9999-12-31T23:59:59.999999Z   \n",
       "\n",
       "                                              S3Path Checksum  \\\n",
       "0  /eodata/Sentinel-2/MSI/L2A/2022/05/03/S2B_MSIL...       []   \n",
       "1  /eodata/Sentinel-2/MSI/L2A/2022/05/03/S2B_MSIL...       []   \n",
       "\n",
       "                                         ContentDate  \\\n",
       "0  {'Start': '2022-05-03T22:25:39.024000Z', 'End'...   \n",
       "1  {'Start': '2022-05-03T22:25:39.024000Z', 'End'...   \n",
       "\n",
       "                                           Footprint  \\\n",
       "0  geography'SRID=4326;POLYGON ((169.72822247963 ...   \n",
       "1  geography'SRID=4326;POLYGON ((169.70695108472 ...   \n",
       "\n",
       "                                        GeoFootprint  \n",
       "0  {'type': 'Polygon', 'coordinates': [[[169.7282...  \n",
       "1  {'type': 'Polygon', 'coordinates': [[[169.7069...  "
      ]
     },
     "execution_count": 84,
     "metadata": {},
     "output_type": "execute_result"
    }
   ],
   "source": [
    "response_json = response.json()\n",
    "values = pandas.DataFrame.from_dict(response_json[\"value\"])\n",
    "values.head(2)"
   ]
  },
  {
   "cell_type": "code",
   "execution_count": 85,
   "id": "8083b68c-540f-4a10-80ea-e0f708591d63",
   "metadata": {},
   "outputs": [
    {
     "data": {
      "text/plain": [
       "15"
      ]
     },
     "execution_count": 85,
     "metadata": {},
     "output_type": "execute_result"
    }
   ],
   "source": [
    "len(values)"
   ]
  },
  {
   "cell_type": "markdown",
   "id": "263a1419-0b09-42c9-a7a3-102899188a45",
   "metadata": {},
   "source": [
    "## Processing API\n",
    "* Documentation at [Processing API](https://documentation.dataspace.copernicus.eu/APIs/SentinelHub/Process.html)\n",
    "* NVDI "
   ]
  },
  {
   "cell_type": "code",
   "execution_count": null,
   "id": "ea023998-828b-46dd-97b3-a35a65d88dd7",
   "metadata": {},
   "outputs": [],
   "source": []
  }
 ],
 "metadata": {
  "kernelspec": {
   "display_name": "Satellite",
   "language": "python",
   "name": "satellite"
  },
  "language_info": {
   "codemirror_mode": {
    "name": "ipython",
    "version": 3
   },
   "file_extension": ".py",
   "mimetype": "text/x-python",
   "name": "python",
   "nbconvert_exporter": "python",
   "pygments_lexer": "ipython3",
   "version": "3.11.0"
  }
 },
 "nbformat": 4,
 "nbformat_minor": 5
}
